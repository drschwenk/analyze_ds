{
 "cells": [
  {
   "cell_type": "markdown",
   "metadata": {
    "heading_collapsed": true
   },
   "source": [
    "# Table of Contents\n",
    "* [make gifs](#make-gifs)\n"
   ]
  },
  {
   "cell_type": "code",
   "execution_count": 17,
   "metadata": {
    "hidden": true,
    "run_control": {
     "frozen": false,
     "read_only": false
    }
   },
   "outputs": [],
   "source": [
    "%%capture\n",
    "from __future__ import division\n",
    "import numpy as np\n",
    "import pandas as pd\n",
    "import scipy.stats as st\n",
    "import itertools\n",
    "import math\n",
    "from collections import Counter, defaultdict\n",
    "%load_ext autoreload\n",
    "%autoreload\n",
    "\n",
    "from __future__ import division\n",
    "import numpy as np\n",
    "import pandas as pd\n",
    "import scipy.stats as st\n",
    "import itertools\n",
    "import functools\n",
    "import math\n",
    "from collections import Counter, defaultdict\n",
    "%load_ext autoreload\n",
    "%autoreload 2\n",
    "\n",
    "import copy\n",
    "import os\n",
    "import json\n",
    "from tqdm import tqdm as tqdm\n",
    "\n",
    "from IPython.display import Image\n",
    "import PIL.Image as pil\n",
    "import random\n",
    "import cv2\n",
    "import matplotlib as mpl\n",
    "mpl.use(\"Agg\")\n",
    "import matplotlib.pylab as plt\n",
    "#%matplotlib notebook\n",
    "%matplotlib inline\n",
    "%load_ext base16_mplrc\n",
    "%base16_mplrc light solarized\n",
    "# %base16_mplrc dark solarized\n",
    "plt.rcParams['grid.linewidth'] = 0\n",
    "plt.rcParams['figure.figsize'] = (16.0, 10.0)\n",
    "\n",
    "from anigen_tools.dataset import FlintstonesDataset\n",
    "from anigen_tools.mturk import unpickle_this, pickle_this\n",
    "from anigen_tools.trajectory_viz import filter_chars, filter_description\n",
    "from anigen_tools.trajectory_viz import avg_video_appearance\n",
    "from anigen_tools.trajectory_viz import draw_trajectory_set\n",
    "from anigen_tools.trajectory_viz import vid_filter"
   ]
  },
  {
   "cell_type": "code",
   "execution_count": 18,
   "metadata": {
    "hidden": true,
    "run_control": {
     "frozen": false,
     "read_only": false
    }
   },
   "outputs": [],
   "source": [
    "import pickle"
   ]
  },
  {
   "cell_type": "code",
   "execution_count": 19,
   "metadata": {
    "hidden": true,
    "run_control": {
     "frozen": false,
     "read_only": false
    }
   },
   "outputs": [],
   "source": [
    "from anigen_tools.mturk import unpickle_this\n",
    "from anigen_tools.docs import doc_video_group\n",
    "from anigen_tools.segmentation import segment_all_video_entities\n",
    "from anigen_tools.hybrid_segmentation import draw_video_segmentations\n",
    "from anigen_tools.tracking import draw_video_tracking"
   ]
  },
  {
   "cell_type": "code",
   "execution_count": 18,
   "metadata": {
    "hidden": true,
    "run_control": {
     "frozen": false,
     "read_only": false
    }
   },
   "outputs": [],
   "source": [
    "import os\n",
    "\n",
    "from paramiko import SSHClient\n",
    "from scp import SCPClient\n",
    "\n",
    "import paramiko\n",
    "\n",
    "from scp import SCPClient"
   ]
  },
  {
   "cell_type": "code",
   "execution_count": 6,
   "metadata": {
    "hidden": true,
    "run_control": {
     "frozen": false,
     "read_only": false
    }
   },
   "outputs": [],
   "source": [
    "# sample_ds = unpickle_this('sample_ds_100.pkl')"
   ]
  },
  {
   "cell_type": "code",
   "execution_count": 8,
   "metadata": {
    "hidden": true,
    "run_control": {
     "frozen": false,
     "read_only": false
    }
   },
   "outputs": [],
   "source": [
    "# with open('../build_dataset/ds_v3p0.pkl', 'rb') as f:\n",
    "#     complete_ds = pickle.load(f)"
   ]
  },
  {
   "cell_type": "code",
   "execution_count": null,
   "metadata": {
    "hidden": true,
    "run_control": {
     "frozen": false,
     "read_only": false
    }
   },
   "outputs": [],
   "source": [
    "from tqdm import tqdm"
   ]
  },
  {
   "cell_type": "code",
   "execution_count": 9,
   "metadata": {
    "hidden": true,
    "run_control": {
     "frozen": false,
     "read_only": false
    }
   },
   "outputs": [],
   "source": [
    "def get_remote_file(remote_dir, name):\n",
    "    ssh = SSHClient()\n",
    "    ssh.load_system_host_keys()\n",
    "    ssh.connect(\"ec2-54-218-100-182.us-west-2.compute.amazonaws.com\", username=\"ubuntu\", key_filename=\"/Users/schwenk/dustins_crap/wgmm/long_term_store/inter/dustins-dev.pem\")\n",
    "    scp = SCPClient(ssh.get_transport(), sanitize=lambda x: x)\n",
    "    scp.get(os.path.join(remote_dir, name + \"*\"), os.path.join('retrieved', remote_dir))"
   ]
  },
  {
   "cell_type": "code",
   "execution_count": 6,
   "metadata": {
    "hidden": true,
    "run_control": {
     "frozen": false,
     "read_only": false
    }
   },
   "outputs": [],
   "source": [
    "segmentation_dir = 'trajectories/segmentation/'"
   ]
  },
  {
   "cell_type": "code",
   "execution_count": 7,
   "metadata": {
    "hidden": true,
    "run_control": {
     "frozen": false,
     "read_only": false
    }
   },
   "outputs": [],
   "source": [
    "interp_dir = 'trajectories/interpolation/'\n",
    "tracking_dir = 'trajectories/tracking/'\n",
    "frame_dir = 'trajectories/frame_arr_data/'\n",
    "remote_dirs = [interp_dir, tracking_dir, frame_dir]"
   ]
  },
  {
   "cell_type": "code",
   "execution_count": 8,
   "metadata": {
    "hidden": true,
    "run_control": {
     "frozen": false,
     "read_only": false
    }
   },
   "outputs": [],
   "source": [
    "cutout_dir = 'trajectories/cutout'"
   ]
  },
  {
   "cell_type": "code",
   "execution_count": 14,
   "metadata": {
    "hidden": true,
    "run_control": {
     "frozen": false,
     "read_only": false
    }
   },
   "outputs": [],
   "source": [
    "# for vid in sample_ids:\n",
    "#     for rd in remote_dirs:\n",
    "#         get_remote_file(rd, vid)"
   ]
  },
  {
   "cell_type": "code",
   "execution_count": 52,
   "metadata": {
    "hidden": true,
    "run_control": {
     "frozen": false,
     "read_only": false
    }
   },
   "outputs": [],
   "source": [
    "for vid in sample_ids:\n",
    "    get_remote_file(segmentation_dir, vid)"
   ]
  },
  {
   "cell_type": "code",
   "execution_count": 186,
   "metadata": {
    "hidden": true,
    "run_control": {
     "frozen": false,
     "read_only": false
    }
   },
   "outputs": [],
   "source": [
    "for vid in sample_ids:\n",
    "    get_remote_file(cutout_dir, vid)"
   ]
  },
  {
   "cell_type": "code",
   "execution_count": 39,
   "metadata": {
    "hidden": true,
    "run_control": {
     "frozen": false,
     "read_only": false
    }
   },
   "outputs": [],
   "source": [
    "segment_all_video_entities(pvid, True)"
   ]
  },
  {
   "cell_type": "code",
   "execution_count": 19,
   "metadata": {
    "hidden": true,
    "run_control": {
     "frozen": false,
     "read_only": false
    }
   },
   "outputs": [],
   "source": [
    "draw_video_segmentations(sample_vids_all[0], True)"
   ]
  },
  {
   "cell_type": "markdown",
   "metadata": {
    "heading_collapsed": true
   },
   "source": [
    "# make gifs"
   ]
  },
  {
   "cell_type": "code",
   "execution_count": 408,
   "metadata": {
    "hidden": true,
    "run_control": {
     "frozen": false,
     "read_only": false
    }
   },
   "outputs": [],
   "source": [
    "# = unpickle_this('../build_dataset/complete_ds_v3p0.pkl')"
   ]
  },
  {
   "cell_type": "code",
   "execution_count": 409,
   "metadata": {
    "hidden": true,
    "run_control": {
     "frozen": false,
     "read_only": false
    }
   },
   "outputs": [],
   "source": [
    "# vids_of_interest = [v for v in complete_ds if 'vase' in v.description().lower()]\n",
    "# vids_of_interest = [v for v in vids_of_interest if 'vase' in v.description().lower()]"
   ]
  },
  {
   "cell_type": "code",
   "execution_count": 353,
   "metadata": {
    "hidden": true,
    "run_control": {
     "frozen": false,
     "read_only": false
    }
   },
   "outputs": [],
   "source": [
    "# vids_of_interest = [v for v in complete_ds if 'living room' in v.setting().lower()]"
   ]
  },
  {
   "cell_type": "code",
   "execution_count": 389,
   "metadata": {
    "hidden": true,
    "run_control": {
     "frozen": false,
     "read_only": false
    }
   },
   "outputs": [],
   "source": [
    "draw_video_segmentations(single_vid, retrieved=False)"
   ]
  },
  {
   "cell_type": "code",
   "execution_count": 18,
   "metadata": {
    "hidden": true,
    "run_control": {
     "frozen": false,
     "read_only": false
    },
    "scrolled": true
   },
   "outputs": [
    {
     "name": "stderr",
     "output_type": "stream",
     "text": [
      "100%|██████████| 1/1 [00:00<00:00, 443.28it/s]"
     ]
    },
    {
     "name": "stdout",
     "output_type": "stream",
     "text": [
      "s_01_e_16_shot_017094_017168\n"
     ]
    },
    {
     "name": "stderr",
     "output_type": "stream",
     "text": [
      "\n"
     ]
    }
   ],
   "source": [
    "for vid in tqdm([single_vid]):\n",
    "    try:\n",
    "        draw_video_segmentations(vid, retrieved=False)\n",
    "    except:\n",
    "        print(vid.gid())"
   ]
  },
  {
   "cell_type": "code",
   "execution_count": 17,
   "metadata": {
    "hidden": true,
    "run_control": {
     "frozen": false,
     "read_only": false
    }
   },
   "outputs": [
    {
     "name": "stderr",
     "output_type": "stream",
     "text": [
      "100%|██████████| 99/99 [00:13<00:00,  7.14it/s]\n"
     ]
    }
   ],
   "source": [
    "# _ = [draw_video_tracking(vid, retrieved=True) for vid in tqdm(sample_ds)]"
   ]
  },
  {
   "cell_type": "code",
   "execution_count": 14,
   "metadata": {
    "hidden": true,
    "run_control": {
     "frozen": false,
     "read_only": false
    }
   },
   "outputs": [],
   "source": [
    "local_path = './retrieved/trajectories/improved_cutout/'\n",
    "keyframe_postfixes = ['_f' + str(x) + '_frame.png' for x in [10, 40, 70]]\n",
    "def combine_bg_images(video):\n",
    "    outfile = video.gid() + '_bgfill.png'\n",
    "    frame_paths = [''.join([local_path, video.gid(), pfix + '_RESULT.png']) for pfix in keyframe_postfixes]\n",
    "    try:\n",
    "        frame_images = [pil.open(fp) for fp in frame_paths]\n",
    "    except FileNotFoundError as e:\n",
    "        print(e)\n",
    "        return\n",
    "    combined_frames = pil.fromarray(np.hstack([np.asarray(img) for img in frame_images if img]))\n",
    "    combined_frames.save('./retrieved/trajectories/viz/' + outfile)"
   ]
  },
  {
   "cell_type": "code",
   "execution_count": 63,
   "metadata": {
    "hidden": true,
    "run_control": {
     "frozen": false,
     "read_only": false
    }
   },
   "outputs": [],
   "source": [
    "# _ = [combine_bg_images(vid) for vid in sample_ds]"
   ]
  },
  {
   "cell_type": "markdown",
   "metadata": {
    "heading_collapsed": true
   },
   "source": [
    "# convert bg imgs "
   ]
  },
  {
   "cell_type": "code",
   "execution_count": 15,
   "metadata": {
    "hidden": true,
    "run_control": {
     "frozen": false,
     "read_only": false
    }
   },
   "outputs": [],
   "source": [
    "bg_dir = 'retrieved/trajectories/improved_cutout/'"
   ]
  },
  {
   "cell_type": "code",
   "execution_count": 16,
   "metadata": {
    "hidden": true,
    "run_control": {
     "frozen": false,
     "read_only": false
    }
   },
   "outputs": [],
   "source": [
    "bg_imgs = [f for f in os.listdir(bg_dir)]"
   ]
  },
  {
   "cell_type": "code",
   "execution_count": 17,
   "metadata": {
    "hidden": true,
    "run_control": {
     "frozen": false,
     "read_only": false
    }
   },
   "outputs": [],
   "source": [
    "all_vids = list(set([im.split('_f')[0] for im in bg_imgs]))"
   ]
  },
  {
   "cell_type": "code",
   "execution_count": 14,
   "metadata": {
    "hidden": true,
    "run_control": {
     "frozen": false,
     "read_only": false
    }
   },
   "outputs": [
    {
     "name": "stderr",
     "output_type": "stream",
     "text": [
      "100%|██████████| 99/99 [00:17<00:00,  5.73it/s]\n"
     ]
    }
   ],
   "source": [
    "vid_bgs = {}\n",
    "for vid in tqdm(all_vids):\n",
    "    frame_paths = [bg_dir + vid + '_f{}_frame.png_RESULT.png'.format(fn) for fn in range(75)] \n",
    "#     vid_bgs[vid] = np.array([np.array(pil.open(fp)) for fp in frame_paths])\n",
    "    vid_bgs = [pil.open(fp) for fp in frame_paths]\n",
    "    outfile = 'bg_gifs/{}_fill_bg.gif'.format(vid)\n",
    "    vid_bgs[0].save(outfile, save_all=True, optimize=False, duration=42, append_images=vid_bgs[1:])\n",
    "    [img.close() for img in vid_bgs]"
   ]
  },
  {
   "cell_type": "code",
   "execution_count": 226,
   "metadata": {
    "hidden": true,
    "run_control": {
     "frozen": false,
     "read_only": false
    }
   },
   "outputs": [],
   "source": [
    "pvid = complete_ds.get_video('s_05_e_22_shot_019737_019811')"
   ]
  },
  {
   "cell_type": "code",
   "execution_count": 229,
   "metadata": {
    "hidden": true,
    "run_control": {
     "frozen": false,
     "read_only": false
    }
   },
   "outputs": [],
   "source": [
    "mvs = unpickle_this('moving_vids.pkl')"
   ]
  },
  {
   "cell_type": "code",
   "execution_count": null,
   "metadata": {
    "hidden": true,
    "run_control": {
     "frozen": false,
     "read_only": false
    }
   },
   "outputs": [],
   "source": []
  },
  {
   "cell_type": "code",
   "execution_count": null,
   "metadata": {
    "hidden": true,
    "run_control": {
     "frozen": false,
     "read_only": false
    }
   },
   "outputs": [],
   "source": []
  },
  {
   "cell_type": "code",
   "execution_count": null,
   "metadata": {
    "hidden": true,
    "run_control": {
     "frozen": false,
     "read_only": false
    }
   },
   "outputs": [],
   "source": []
  },
  {
   "cell_type": "code",
   "execution_count": null,
   "metadata": {
    "hidden": true,
    "run_control": {
     "frozen": false,
     "read_only": false
    }
   },
   "outputs": [],
   "source": [
    "def convert_png_bgs_to_npy(vid):\n",
    "    bg_dir = os.path.join(traj)\n",
    "    frame_paths = [ + vid.gid() + '_f{}_frame.png_RESULT.png'.format(fn) for fn in range(75)] \n",
    "    bg_array = np.array([np.array(pil.open(fp)) for fp in frame_paths])"
   ]
  },
  {
   "cell_type": "code",
   "execution_count": 16,
   "metadata": {
    "hidden": true,
    "run_control": {
     "frozen": false,
     "read_only": false
    }
   },
   "outputs": [],
   "source": [
    "# bg_arrs = [np.array(pil.open(ip)) for ip in bg_img_paths[:1]][0]"
   ]
  },
  {
   "cell_type": "code",
   "execution_count": 131,
   "metadata": {
    "hidden": true,
    "run_control": {
     "frozen": false,
     "read_only": false
    }
   },
   "outputs": [],
   "source": [
    "def write_static_bg_frame_arr_mid(video):\n",
    "    bg_fill_dir = '/Users/schwenk/wrk/animation_gan/dataset/v3p0/filled_backgrounds/'\n",
    "    bg_npy_dir = 'test_npz'\n",
    "    bg_file_path = os.path.join(bg_fill_dir, video.gid() + '_f40.png')\n",
    "    middle_frame = pil.open(bg_file_path)\n",
    "    filled_out_arr =  np.tile(np.expand_dims(middle_frame, 0), [75, 1, 1, 1])\n",
    "    outfile = os.path.join(bg_npy_dir, video.gid() + '_bg.npy.npz')\n",
    "    np.savez_compressed(outfile, np.array(middle_frame))"
   ]
  },
  {
   "cell_type": "code",
   "execution_count": 210,
   "metadata": {
    "hidden": true,
    "run_control": {
     "frozen": false,
     "read_only": false
    }
   },
   "outputs": [],
   "source": [
    "def write_static_bg_frame_arr(video):\n",
    "    frame_numbers = [10, 40, 70]\n",
    "    bg_fill_dir = '/Users/schwenk/wrk/animation_gan/dataset/v3p0/filled_backgrounds/'\n",
    "    bg_npy_dir = 'test_npz'\n",
    "    three_file_paths = [os.path.join(bg_fill_dir, video.gid() + '_f{}.png'.format(fn)) for fn in frame_numbers]\n",
    "    three_frames = [np.array(pil.open(bg)) for bg in three_file_paths]\n",
    "    \n",
    "    pw_combos = list(combinations(three_frames, 2))\n",
    "    pw_sims = [compare_ssim(*pwc, multichannel=True) for pwc in pw_combos]\n",
    "\n",
    "    f10_sims = sum(pw_sims[:2])\n",
    "    f40_sims = sum([pw_sims[0], pw_sims[-1]])\n",
    "    f70_sims = sum(pw_sims[1:])\n",
    "\n",
    "    comp_arr = np.array([f10_sims, f40_sims, f70_sims])\n",
    "\n",
    "    best_frame_idx = np.argmax(comp_arr)\n",
    "    best_frame = three_frames[best_frame_idx]\n",
    "    print(frame_numbers[best_frame_idx])\n",
    "    filled_out_arr =  np.tile(np.expand_dims(best_frame, 0), [75, 1, 1, 1])\n",
    "    outfile = os.path.join(bg_npy_dir, video.gid() + '_bg.npy.npz')\n",
    "    np.savez_compressed(outfile, np.array(filled_out_arr))"
   ]
  },
  {
   "cell_type": "code",
   "execution_count": 213,
   "metadata": {
    "hidden": true,
    "run_control": {
     "frozen": false,
     "read_only": false
    }
   },
   "outputs": [],
   "source": [
    "test_vid = complete_ds.data[1]"
   ]
  },
  {
   "cell_type": "code",
   "execution_count": 214,
   "metadata": {
    "hidden": true,
    "run_control": {
     "frozen": false,
     "read_only": false
    }
   },
   "outputs": [
    {
     "name": "stdout",
     "output_type": "stream",
     "text": [
      "40\n"
     ]
    }
   ],
   "source": [
    "three_test = write_static_bg_frame_arr(test_vid)"
   ]
  },
  {
   "cell_type": "code",
   "execution_count": null,
   "metadata": {
    "hidden": true,
    "run_control": {
     "frozen": false,
     "read_only": false
    }
   },
   "outputs": [],
   "source": [
    "compare_ssim(three_test[0], three_test[2], multichannel=True)"
   ]
  },
  {
   "cell_type": "code",
   "execution_count": 172,
   "metadata": {
    "hidden": true,
    "run_control": {
     "frozen": false,
     "read_only": false
    }
   },
   "outputs": [],
   "source": [
    "from itertools import combinations\n",
    "from itertools import permutations"
   ]
  },
  {
   "cell_type": "code",
   "execution_count": null,
   "metadata": {
    "hidden": true,
    "run_control": {
     "frozen": false,
     "read_only": false
    }
   },
   "outputs": [],
   "source": []
  },
  {
   "cell_type": "code",
   "execution_count": 216,
   "metadata": {
    "hidden": true,
    "run_control": {
     "frozen": false,
     "read_only": false
    }
   },
   "outputs": [],
   "source": [
    "rec_arr = np.load('test_npz/' + test_vid.gid() + '_bg.npy.npz')['arr_0']"
   ]
  },
  {
   "cell_type": "code",
   "execution_count": 220,
   "metadata": {
    "hidden": true,
    "run_control": {
     "frozen": false,
     "read_only": false
    }
   },
   "outputs": [
    {
     "data": {
      "image/png": "[encoded data removed]",
      "text/plain": [
       "<PIL.Image.Image image mode=RGB size=128x128 at 0x12BA09BA8>"
      ]
     },
     "execution_count": 220,
     "metadata": {},
     "output_type": "execute_result"
    }
   ],
   "source": [
    "pil.fromarray(rec_arr[0])"
   ]
  },
  {
   "cell_type": "markdown",
   "metadata": {
    "heading_collapsed": true
   },
   "source": [
    "# detect bg motion"
   ]
  },
  {
   "cell_type": "code",
   "execution_count": 17,
   "metadata": {
    "hidden": true,
    "run_control": {
     "frozen": false,
     "read_only": false
    }
   },
   "outputs": [],
   "source": [
    "def convert_to_rgb(bin_img):\n",
    "    return pil.fromarray(np.tile(np.expand_dims(bin_img * 255, 2), [1, 1, 3]))"
   ]
  },
  {
   "cell_type": "code",
   "execution_count": 18,
   "metadata": {
    "hidden": true,
    "run_control": {
     "frozen": false,
     "read_only": false
    }
   },
   "outputs": [],
   "source": [
    "vid_labels = pd.read_csv('./sample_bg_motion_labels.csv')"
   ]
  },
  {
   "cell_type": "code",
   "execution_count": 19,
   "metadata": {
    "hidden": true,
    "run_control": {
     "frozen": false,
     "read_only": false
    }
   },
   "outputs": [],
   "source": [
    "all_ds_ids = set([v.gid() for v in complete_ds.data])"
   ]
  },
  {
   "cell_type": "code",
   "execution_count": 20,
   "metadata": {
    "hidden": true,
    "run_control": {
     "frozen": false,
     "read_only": false
    }
   },
   "outputs": [],
   "source": [
    "vid_labels = vid_labels[vid_labels['vid'].isin(all_ds_ids)]"
   ]
  },
  {
   "cell_type": "code",
   "execution_count": 21,
   "metadata": {
    "hidden": true,
    "run_control": {
     "frozen": false,
     "read_only": false
    }
   },
   "outputs": [],
   "source": [
    "all_bg_fills = '/Users/schwenk/wrk/animation_gan/dataset/v3p0/trajectories/filled_backgrounds/'"
   ]
  },
  {
   "cell_type": "code",
   "execution_count": 22,
   "metadata": {
    "hidden": true,
    "run_control": {
     "frozen": false,
     "read_only": false
    }
   },
   "outputs": [],
   "source": [
    "# vid_bgs = {}\n",
    "# for vid in sample_ds[:2]:\n",
    "#     frame_paths = [all_bg_fills + vid.gid() + '_f{}.png'.format(fn) for fn in [10, 40, 70]]\n",
    "#     vid_bgs[vid.gid()] = [pil.open(fp) for fp in frame_paths]"
   ]
  },
  {
   "cell_type": "code",
   "execution_count": 23,
   "metadata": {
    "hidden": true,
    "run_control": {
     "frozen": false,
     "read_only": false
    }
   },
   "outputs": [],
   "source": [
    "static_ids = vid_labels[vid_labels['moving'] == 0]['vid']\n",
    "moving_ids = vid_labels[vid_labels['moving'] == 1]['vid']"
   ]
  },
  {
   "cell_type": "code",
   "execution_count": 25,
   "metadata": {
    "hidden": true,
    "run_control": {
     "frozen": false,
     "read_only": false
    }
   },
   "outputs": [],
   "source": [
    "from anigen_tools.bg_fill import make_cutout\n",
    "from anigen_tools.bg_fill import combine_masks"
   ]
  },
  {
   "cell_type": "code",
   "execution_count": 146,
   "metadata": {
    "hidden": true,
    "run_control": {
     "frozen": false,
     "read_only": false
    }
   },
   "outputs": [],
   "source": [
    "from skimage.measure import compare_ssim\n",
    "from skimage.measure import compare_mse\n",
    "from skimage.measure import compare_nrmse"
   ]
  },
  {
   "cell_type": "code",
   "execution_count": 147,
   "metadata": {
    "hidden": true,
    "run_control": {
     "frozen": false,
     "read_only": false
    }
   },
   "outputs": [],
   "source": [
    "from sklearn.metrics import precision_recall_curve\n",
    "from sklearn.metrics import auc"
   ]
  },
  {
   "cell_type": "code",
   "execution_count": 27,
   "metadata": {
    "hidden": true,
    "run_control": {
     "frozen": false,
     "read_only": false
    }
   },
   "outputs": [],
   "source": [
    "frame_arr_dir = '/Users/schwenk/wrk/animation_gan/dataset/v3p0/trajectories/frame_arr_data/'"
   ]
  },
  {
   "cell_type": "code",
   "execution_count": 28,
   "metadata": {
    "hidden": true,
    "run_control": {
     "frozen": false,
     "read_only": false
    }
   },
   "outputs": [],
   "source": [
    "# video = video = complete_ds.get_video(static_ids.iloc[1])\n",
    "# video = complete_ds.get_video(moving_ids.iloc[1])"
   ]
  },
  {
   "cell_type": "code",
   "execution_count": 233,
   "metadata": {
    "hidden": true,
    "run_control": {
     "frozen": false,
     "read_only": false
    }
   },
   "outputs": [],
   "source": [
    "# moving_bg_res = pd.Series([detect_moving_bg(complete_ds.get_video(v)) for v in moving_ids.tolist()])"
   ]
  },
  {
   "cell_type": "code",
   "execution_count": 727,
   "metadata": {
    "hidden": true,
    "run_control": {
     "frozen": false,
     "read_only": false
    },
    "scrolled": true
   },
   "outputs": [],
   "source": [
    "# static_bg_res = pd.Series([detect_moving_bg(complete_ds.get_video(v)) for v in static_ids.tolist()])"
   ]
  },
  {
   "cell_type": "code",
   "execution_count": 232,
   "metadata": {
    "hidden": true,
    "run_control": {
     "frozen": false,
     "read_only": false
    }
   },
   "outputs": [],
   "source": [
    "def detect_moving_bg(video):\n",
    "    frame_arr_data = np.load(os.path.join(frame_arr_dir, video.gid() + '.npy'))\n",
    "    ent_masks = combine_masks(video)\n",
    "    vid_cutouts = np.array([make_cutout(video, frame_arr_data, ent_masks, fn, write=False) for fn in range(75)])\n",
    "    avg_cutout = np.median(vid_cutouts, axis=0).astype(np.uint8)\n",
    "    similarity_to_mean = np.array([compare_ssim(vid_cutouts[fn], avg_cutout, multichannel=True) for fn in range(75)])\n",
    "    return similarity_to_mean.max()\n",
    "\n",
    "\n",
    "def classify_video(video, thresh=0.95):\n",
    "    max_ssim = detect_moving_bg(video)\n",
    "    return {video.gid: max_ssim < thresh}"
   ]
  },
  {
   "cell_type": "code",
   "execution_count": 216,
   "metadata": {
    "hidden": true,
    "run_control": {
     "frozen": false,
     "read_only": false
    }
   },
   "outputs": [],
   "source": [
    "# def detect_moving_bg(video):\n",
    "#     frame_arr_data = np.load(os.path.join(frame_arr_dir, video.gid() + '.npy'))\n",
    "# #     ent_masks = combine_masks(video)\n",
    "# #     vid_cutouts = np.array([make_cutout(video, frame_arr_data, ent_masks, fn, write=False) for fn in range(75)])\n",
    "#     avg_cutout = np.median(frame_arr_data, axis=0).astype(np.uint8)\n",
    "#     similarity_to_mean = np.array([compare_ssim(frame_arr_data[fn], avg_cutout, multichannel=True) for fn in range(75)])\n",
    "#     return similarity_to_mean.max()"
   ]
  },
  {
   "cell_type": "code",
   "execution_count": 136,
   "metadata": {
    "hidden": true,
    "run_control": {
     "frozen": false,
     "read_only": false
    }
   },
   "outputs": [],
   "source": [
    "# def detect_moving_bg(video):\n",
    "#     frame_arr_data = np.load(os.path.join(frame_arr_dir, video.gid() + '.npy'))\n",
    "#     ent_masks = combine_masks(video)\n",
    "#     vid_cutouts = np.array([make_cutout(video, frame_arr_data, ent_masks, fn, write=False) for fn in range(75)])\n",
    "#     avg_cutout = np.median(vid_cutouts, axis=0).astype(np.uint8)\n",
    "#     demeaned = vid_cutouts - avg_cutout\n",
    "# #     return demeaned.sum() / avg_cutout.sum()\n",
    "# #     return similarity_to_mean.mean()    "
   ]
  },
  {
   "cell_type": "code",
   "execution_count": 107,
   "metadata": {
    "hidden": true,
    "run_control": {
     "frozen": false,
     "read_only": false
    }
   },
   "outputs": [
    {
     "data": {
      "image/png": "[encoded data removed]",
      "text/plain": [
       "<PIL.Image.Image image mode=RGB size=128x128 at 0x13A286748>"
      ]
     },
     "execution_count": 107,
     "metadata": {},
     "output_type": "execute_result"
    }
   ],
   "source": [
    "pil.fromarray(vid_cutouts[0]) "
   ]
  },
  {
   "cell_type": "code",
   "execution_count": 217,
   "metadata": {
    "hidden": true,
    "run_control": {
     "frozen": false,
     "read_only": false
    },
    "scrolled": true
   },
   "outputs": [
    {
     "name": "stderr",
     "output_type": "stream",
     "text": [
      "\n",
      "\n",
      "  0%|          | 0/97 [00:00<?, ?it/s]\u001b[A\u001b[A\n",
      "\n",
      "  1%|          | 1/97 [00:00<00:37,  2.59it/s]\u001b[A\u001b[A\n",
      "\n",
      "  2%|▏         | 2/97 [00:00<00:37,  2.55it/s]\u001b[A\u001b[A\n",
      "\n",
      "  3%|▎         | 3/97 [00:01<00:36,  2.54it/s]\u001b[A\u001b[A\n",
      "\n",
      "  4%|▍         | 4/97 [00:01<00:35,  2.59it/s]\u001b[A\u001b[A\n",
      "\n",
      "  5%|▌         | 5/97 [00:01<00:35,  2.60it/s]\u001b[A\u001b[A\n",
      "\n",
      "  6%|▌         | 6/97 [00:02<00:35,  2.60it/s]\u001b[A\u001b[A\n",
      "\n",
      "  7%|▋         | 7/97 [00:02<00:34,  2.60it/s]\u001b[A\u001b[A\n",
      "\n",
      "  8%|▊         | 8/97 [00:03<00:34,  2.59it/s]\u001b[A\u001b[A\n",
      "\n",
      "  9%|▉         | 9/97 [00:03<00:33,  2.61it/s]\u001b[A\u001b[A\n",
      "\n",
      " 10%|█         | 10/97 [00:03<00:33,  2.62it/s]\u001b[A\u001b[A\n",
      "\n",
      " 11%|█▏        | 11/97 [00:04<00:32,  2.63it/s]\u001b[A\u001b[A\n",
      "\n",
      " 12%|█▏        | 12/97 [00:04<00:32,  2.63it/s]\u001b[A\u001b[A\n",
      "\n",
      " 13%|█▎        | 13/97 [00:04<00:31,  2.63it/s]\u001b[A\u001b[A\n",
      "\n",
      " 14%|█▍        | 14/97 [00:05<00:31,  2.63it/s]\u001b[A\u001b[A\n",
      "\n",
      " 15%|█▌        | 15/97 [00:05<00:31,  2.63it/s]\u001b[A\u001b[A\n",
      "\n",
      " 16%|█▋        | 16/97 [00:06<00:30,  2.63it/s]\u001b[A\u001b[A\n",
      "\n",
      " 18%|█▊        | 17/97 [00:06<00:30,  2.62it/s]\u001b[A\u001b[A\n",
      "\n",
      " 19%|█▊        | 18/97 [00:06<00:30,  2.61it/s]\u001b[A\u001b[A\n",
      "\n",
      " 20%|█▉        | 19/97 [00:07<00:29,  2.61it/s]\u001b[A\u001b[A\n",
      "\n",
      " 21%|██        | 20/97 [00:07<00:29,  2.61it/s]\u001b[A\u001b[A\n",
      "\n",
      " 22%|██▏       | 21/97 [00:08<00:29,  2.61it/s]\u001b[A\u001b[A\n",
      "\n",
      " 23%|██▎       | 22/97 [00:08<00:28,  2.61it/s]\u001b[A\u001b[A\n",
      "\n",
      " 24%|██▎       | 23/97 [00:08<00:28,  2.61it/s]\u001b[A\u001b[A\n",
      "\n",
      " 25%|██▍       | 24/97 [00:09<00:27,  2.61it/s]\u001b[A\u001b[A\n",
      "\n",
      " 26%|██▌       | 25/97 [00:09<00:27,  2.61it/s]\u001b[A\u001b[A\n",
      "\n",
      " 27%|██▋       | 26/97 [00:09<00:27,  2.61it/s]\u001b[A\u001b[A\n",
      "\n",
      " 28%|██▊       | 27/97 [00:10<00:26,  2.60it/s]\u001b[A\u001b[A\n",
      "\n",
      " 29%|██▉       | 28/97 [00:10<00:26,  2.60it/s]\u001b[A\u001b[A\n",
      "\n",
      " 30%|██▉       | 29/97 [00:11<00:26,  2.60it/s]\u001b[A\u001b[A\n",
      "\n",
      " 31%|███       | 30/97 [00:11<00:25,  2.60it/s]\u001b[A\u001b[A\n",
      "\n",
      " 32%|███▏      | 31/97 [00:11<00:25,  2.60it/s]\u001b[A\u001b[A\n",
      "\n",
      " 33%|███▎      | 32/97 [00:12<00:25,  2.60it/s]\u001b[A\u001b[A\n",
      "\n",
      " 34%|███▍      | 33/97 [00:12<00:24,  2.60it/s]\u001b[A\u001b[A\n",
      "\n",
      " 35%|███▌      | 34/97 [00:13<00:24,  2.60it/s]\u001b[A\u001b[A\n",
      "\n",
      " 36%|███▌      | 35/97 [00:13<00:23,  2.59it/s]\u001b[A\u001b[A\n",
      "\n",
      " 37%|███▋      | 36/97 [00:13<00:23,  2.59it/s]\u001b[A\u001b[A\n",
      "\n",
      " 38%|███▊      | 37/97 [00:14<00:23,  2.59it/s]\u001b[A\u001b[A\n",
      "\n",
      " 39%|███▉      | 38/97 [00:14<00:22,  2.59it/s]\u001b[A\u001b[A\n",
      "\n",
      " 40%|████      | 39/97 [00:15<00:22,  2.59it/s]\u001b[A\u001b[A\n",
      "\n",
      " 41%|████      | 40/97 [00:15<00:22,  2.59it/s]\u001b[A\u001b[A\n",
      "\n",
      " 42%|████▏     | 41/97 [00:15<00:21,  2.59it/s]\u001b[A\u001b[A\n",
      "\n",
      " 43%|████▎     | 42/97 [00:16<00:21,  2.59it/s]\u001b[A\u001b[A\n",
      "\n",
      " 44%|████▍     | 43/97 [00:16<00:20,  2.59it/s]\u001b[A\u001b[A\n",
      "\n",
      " 45%|████▌     | 44/97 [00:17<00:20,  2.59it/s]\u001b[A\u001b[A\n",
      "\n",
      " 46%|████▋     | 45/97 [00:17<00:20,  2.59it/s]\u001b[A\u001b[A\n",
      "\n",
      " 47%|████▋     | 46/97 [00:17<00:19,  2.59it/s]\u001b[A\u001b[A\n",
      "\n",
      " 48%|████▊     | 47/97 [00:18<00:19,  2.59it/s]\u001b[A\u001b[A\n",
      "\n",
      " 49%|████▉     | 48/97 [00:18<00:18,  2.58it/s]\u001b[A\u001b[A\n",
      "\n",
      " 51%|█████     | 49/97 [00:18<00:18,  2.59it/s]\u001b[A\u001b[A\n",
      "\n",
      " 52%|█████▏    | 50/97 [00:19<00:18,  2.59it/s]\u001b[A\u001b[A\n",
      "\n",
      " 53%|█████▎    | 51/97 [00:19<00:17,  2.59it/s]\u001b[A\u001b[A\n",
      "\n",
      " 54%|█████▎    | 52/97 [00:20<00:17,  2.59it/s]\u001b[A\u001b[A\n",
      "\n",
      " 55%|█████▍    | 53/97 [00:20<00:16,  2.59it/s]\u001b[A\u001b[A\n",
      "\n",
      " 56%|█████▌    | 54/97 [00:20<00:16,  2.59it/s]\u001b[A\u001b[A\n",
      "\n",
      " 57%|█████▋    | 55/97 [00:21<00:16,  2.59it/s]\u001b[A\u001b[A\n",
      "\n",
      " 58%|█████▊    | 56/97 [00:21<00:15,  2.59it/s]\u001b[A\u001b[A\n",
      "\n",
      " 59%|█████▉    | 57/97 [00:21<00:15,  2.59it/s]\u001b[A\u001b[A\n",
      "\n",
      " 60%|█████▉    | 58/97 [00:22<00:15,  2.59it/s]\u001b[A\u001b[A\n",
      "\n",
      " 61%|██████    | 59/97 [00:22<00:14,  2.59it/s]\u001b[A\u001b[A\n",
      "\n",
      " 62%|██████▏   | 60/97 [00:23<00:14,  2.59it/s]\u001b[A\u001b[A\n",
      "\n",
      " 63%|██████▎   | 61/97 [00:23<00:13,  2.60it/s]\u001b[A\u001b[A\n",
      "\n",
      " 64%|██████▍   | 62/97 [00:23<00:13,  2.60it/s]\u001b[A\u001b[A\n",
      "\n",
      " 65%|██████▍   | 63/97 [00:24<00:13,  2.60it/s]\u001b[A\u001b[A\n",
      "\n",
      " 66%|██████▌   | 64/97 [00:24<00:12,  2.60it/s]\u001b[A\u001b[A\n",
      "\n",
      " 67%|██████▋   | 65/97 [00:25<00:12,  2.60it/s]\u001b[A\u001b[A\n",
      "\n",
      " 68%|██████▊   | 66/97 [00:25<00:11,  2.60it/s]\u001b[A\u001b[A\n",
      "\n",
      " 69%|██████▉   | 67/97 [00:25<00:11,  2.60it/s]\u001b[A\u001b[A\n",
      "\n",
      " 70%|███████   | 68/97 [00:26<00:11,  2.60it/s]\u001b[A\u001b[A\n",
      "\n",
      " 71%|███████   | 69/97 [00:26<00:10,  2.60it/s]\u001b[A\u001b[A\n",
      "\n",
      " 72%|███████▏  | 70/97 [00:26<00:10,  2.60it/s]\u001b[A\u001b[A\n",
      "\n",
      " 73%|███████▎  | 71/97 [00:27<00:09,  2.60it/s]\u001b[A\u001b[A\n",
      "\n",
      " 74%|███████▍  | 72/97 [00:27<00:09,  2.60it/s]\u001b[A\u001b[A\n",
      "\n",
      " 75%|███████▌  | 73/97 [00:28<00:09,  2.60it/s]\u001b[A\u001b[A\n",
      "\n",
      " 76%|███████▋  | 74/97 [00:28<00:08,  2.61it/s]\u001b[A\u001b[A\n",
      "\n",
      " 77%|███████▋  | 75/97 [00:28<00:08,  2.61it/s]\u001b[A\u001b[A\n",
      "\n",
      " 78%|███████▊  | 76/97 [00:29<00:08,  2.61it/s]\u001b[A\u001b[A\n",
      "\n",
      " 79%|███████▉  | 77/97 [00:29<00:07,  2.61it/s]\u001b[A\u001b[A\n",
      "\n",
      " 80%|████████  | 78/97 [00:29<00:07,  2.61it/s]\u001b[A\u001b[A\n",
      "\n",
      " 81%|████████▏ | 79/97 [00:30<00:06,  2.61it/s]\u001b[A\u001b[A\n",
      "\n",
      " 82%|████████▏ | 80/97 [00:30<00:06,  2.61it/s]\u001b[A\u001b[A\n",
      "\n",
      " 84%|████████▎ | 81/97 [00:30<00:06,  2.61it/s]\u001b[A\u001b[A\n",
      "\n",
      " 85%|████████▍ | 82/97 [00:31<00:05,  2.61it/s]\u001b[A\u001b[A\n",
      "\n",
      " 86%|████████▌ | 83/97 [00:31<00:05,  2.61it/s]\u001b[A\u001b[A\n",
      "\n",
      " 87%|████████▋ | 84/97 [00:32<00:04,  2.62it/s]\u001b[A\u001b[A\n",
      "\n",
      " 88%|████████▊ | 85/97 [00:32<00:04,  2.62it/s]\u001b[A\u001b[A\n",
      "\n",
      " 89%|████████▊ | 86/97 [00:32<00:04,  2.62it/s]\u001b[A\u001b[A\n",
      "\n",
      " 90%|████████▉ | 87/97 [00:33<00:03,  2.62it/s]\u001b[A\u001b[A\n",
      "\n",
      " 91%|█████████ | 88/97 [00:33<00:03,  2.62it/s]\u001b[A\u001b[A\n",
      "\n",
      " 92%|█████████▏| 89/97 [00:33<00:03,  2.62it/s]\u001b[A\u001b[A\n",
      "\n",
      " 93%|█████████▎| 90/97 [00:34<00:02,  2.62it/s]\u001b[A\u001b[A\n",
      "\n",
      " 94%|█████████▍| 91/97 [00:34<00:02,  2.62it/s]\u001b[A\u001b[A\n",
      "\n",
      " 95%|█████████▍| 92/97 [00:35<00:01,  2.62it/s]\u001b[A\u001b[A\n",
      "\n",
      " 96%|█████████▌| 93/97 [00:35<00:01,  2.62it/s]\u001b[A\u001b[A\n",
      "\n",
      " 97%|█████████▋| 94/97 [00:35<00:01,  2.62it/s]\u001b[A\u001b[A\n",
      "\n",
      " 98%|█████████▊| 95/97 [00:36<00:00,  2.62it/s]\u001b[A\u001b[A\n",
      "\n",
      " 99%|█████████▉| 96/97 [00:36<00:00,  2.62it/s]\u001b[A\u001b[A\n",
      "\n",
      "100%|██████████| 97/97 [00:36<00:00,  2.62it/s]\u001b[A\u001b[A\n",
      "\n",
      "\u001b[A\u001b[A"
     ]
    }
   ],
   "source": [
    "# all_bg_res = [detect_moving_bg(complete_ds.get_video(v)) for v in tqdm(vid_labels['vid'])]\n",
    "all_bg_res_mse = [detect_moving_bg(complete_ds.get_video(v)) for v in tqdm(vid_labels['vid'])]\n",
    "\n",
    "vid_labels['ssim'] = all_bg_res_mse"
   ]
  },
  {
   "cell_type": "code",
   "execution_count": 218,
   "metadata": {
    "hidden": true,
    "run_control": {
     "frozen": false,
     "read_only": false
    }
   },
   "outputs": [
    {
     "data": {
      "image/png": "[encoded data removed]",
      "text/plain": [
       "<matplotlib.figure.Figure at 0x13a20e710>"
      ]
     },
     "metadata": {},
     "output_type": "display_data"
    }
   ],
   "source": [
    "ax1 = plt.subplot(111)\n",
    "vid_labels[vid_labels['moving']==0]['ssim'].hist(ax=ax1, color='blue', label='static', alpha=0.5, bins=20)\n",
    "vid_labels[vid_labels['moving']==1]['ssim'].hist(ax=ax1, color='red', label='moving', alpha=0.5, bins=20)\n",
    "_ = ax1.legend(loc='best')"
   ]
  },
  {
   "cell_type": "code",
   "execution_count": 195,
   "metadata": {
    "hidden": true,
    "run_control": {
     "frozen": false,
     "read_only": false
    }
   },
   "outputs": [
    {
     "data": {
      "image/png": "[encoded data removed]",
      "text/plain": [
       "<matplotlib.figure.Figure at 0x139ad1e80>"
      ]
     },
     "metadata": {},
     "output_type": "display_data"
    }
   ],
   "source": [
    "ax1 = plt.subplot(111)\n",
    "vid_labels[vid_labels['moving']==0]['ssim'].hist(ax=ax1, color='blue', label='static', alpha=0.5, bins=20)\n",
    "vid_labels[vid_labels['moving']==1]['ssim'].hist(ax=ax1, color='red', label='moving', alpha=0.5, bins=20)\n",
    "_ = ax1.legend(loc='best')"
   ]
  },
  {
   "cell_type": "code",
   "execution_count": 201,
   "metadata": {
    "hidden": true,
    "run_control": {
     "frozen": false,
     "read_only": false
    }
   },
   "outputs": [
    {
     "data": {
      "text/html": [
       "<div>\n",
       "<style scoped>\n",
       "    .dataframe tbody tr th:only-of-type {\n",
       "        vertical-align: middle;\n",
       "    }\n",
       "\n",
       "    .dataframe tbody tr th {\n",
       "        vertical-align: top;\n",
       "    }\n",
       "\n",
       "    .dataframe thead th {\n",
       "        text-align: right;\n",
       "    }\n",
       "</style>\n",
       "<table border=\"1\" class=\"dataframe\">\n",
       "  <thead>\n",
       "    <tr style=\"text-align: right;\">\n",
       "      <th></th>\n",
       "      <th>vid</th>\n",
       "      <th>moving</th>\n",
       "      <th>ssim</th>\n",
       "    </tr>\n",
       "  </thead>\n",
       "  <tbody>\n",
       "    <tr>\n",
       "      <th>6</th>\n",
       "      <td>s_01_e_11_shot_017367_017441</td>\n",
       "      <td>0.0</td>\n",
       "      <td>0.900561</td>\n",
       "    </tr>\n",
       "    <tr>\n",
       "      <th>21</th>\n",
       "      <td>s_02_e_11_shot_008415_008489</td>\n",
       "      <td>1.0</td>\n",
       "      <td>0.847900</td>\n",
       "    </tr>\n",
       "    <tr>\n",
       "      <th>25</th>\n",
       "      <td>s_02_e_14_shot_023305_023379</td>\n",
       "      <td>0.0</td>\n",
       "      <td>0.843327</td>\n",
       "    </tr>\n",
       "    <tr>\n",
       "      <th>26</th>\n",
       "      <td>s_02_e_15_shot_003113_003187</td>\n",
       "      <td>1.0</td>\n",
       "      <td>0.753910</td>\n",
       "    </tr>\n",
       "    <tr>\n",
       "      <th>39</th>\n",
       "      <td>s_03_e_09_shot_034034_034108</td>\n",
       "      <td>1.0</td>\n",
       "      <td>0.795923</td>\n",
       "    </tr>\n",
       "    <tr>\n",
       "      <th>40</th>\n",
       "      <td>s_03_e_11_shot_011374_011448</td>\n",
       "      <td>0.0</td>\n",
       "      <td>0.890431</td>\n",
       "    </tr>\n",
       "    <tr>\n",
       "      <th>42</th>\n",
       "      <td>s_03_e_16_shot_034648_034722</td>\n",
       "      <td>1.0</td>\n",
       "      <td>0.942063</td>\n",
       "    </tr>\n",
       "    <tr>\n",
       "      <th>58</th>\n",
       "      <td>s_04_e_14_shot_023602_023676</td>\n",
       "      <td>0.0</td>\n",
       "      <td>0.878535</td>\n",
       "    </tr>\n",
       "    <tr>\n",
       "      <th>60</th>\n",
       "      <td>s_04_e_15_shot_039048_039122</td>\n",
       "      <td>1.0</td>\n",
       "      <td>0.948786</td>\n",
       "    </tr>\n",
       "    <tr>\n",
       "      <th>65</th>\n",
       "      <td>s_04_e_22_shot_021109_021183</td>\n",
       "      <td>0.0</td>\n",
       "      <td>0.949551</td>\n",
       "    </tr>\n",
       "    <tr>\n",
       "      <th>66</th>\n",
       "      <td>s_04_e_24_shot_017556_017630</td>\n",
       "      <td>0.0</td>\n",
       "      <td>0.943595</td>\n",
       "    </tr>\n",
       "    <tr>\n",
       "      <th>79</th>\n",
       "      <td>s_05_e_22_shot_017017_017091</td>\n",
       "      <td>1.0</td>\n",
       "      <td>0.746767</td>\n",
       "    </tr>\n",
       "    <tr>\n",
       "      <th>81</th>\n",
       "      <td>s_05_e_25_shot_000528_000602</td>\n",
       "      <td>1.0</td>\n",
       "      <td>0.914964</td>\n",
       "    </tr>\n",
       "    <tr>\n",
       "      <th>82</th>\n",
       "      <td>s_06_e_01_shot_009097_009171</td>\n",
       "      <td>0.0</td>\n",
       "      <td>0.942648</td>\n",
       "    </tr>\n",
       "    <tr>\n",
       "      <th>96</th>\n",
       "      <td>s_06_e_20_shot_010941_011015</td>\n",
       "      <td>1.0</td>\n",
       "      <td>0.925355</td>\n",
       "    </tr>\n",
       "    <tr>\n",
       "      <th>97</th>\n",
       "      <td>s_06_e_20_shot_020293_020367</td>\n",
       "      <td>1.0</td>\n",
       "      <td>0.939343</td>\n",
       "    </tr>\n",
       "  </tbody>\n",
       "</table>\n",
       "</div>"
      ],
      "text/plain": [
       "                             vid  moving      ssim\n",
       "6   s_01_e_11_shot_017367_017441     0.0  0.900561\n",
       "21  s_02_e_11_shot_008415_008489     1.0  0.847900\n",
       "25  s_02_e_14_shot_023305_023379     0.0  0.843327\n",
       "26  s_02_e_15_shot_003113_003187     1.0  0.753910\n",
       "39  s_03_e_09_shot_034034_034108     1.0  0.795923\n",
       "40  s_03_e_11_shot_011374_011448     0.0  0.890431\n",
       "42  s_03_e_16_shot_034648_034722     1.0  0.942063\n",
       "58  s_04_e_14_shot_023602_023676     0.0  0.878535\n",
       "60  s_04_e_15_shot_039048_039122     1.0  0.948786\n",
       "65  s_04_e_22_shot_021109_021183     0.0  0.949551\n",
       "66  s_04_e_24_shot_017556_017630     0.0  0.943595\n",
       "79  s_05_e_22_shot_017017_017091     1.0  0.746767\n",
       "81  s_05_e_25_shot_000528_000602     1.0  0.914964\n",
       "82  s_06_e_01_shot_009097_009171     0.0  0.942648\n",
       "96  s_06_e_20_shot_010941_011015     1.0  0.925355\n",
       "97  s_06_e_20_shot_020293_020367     1.0  0.939343"
      ]
     },
     "execution_count": 201,
     "metadata": {},
     "output_type": "execute_result"
    }
   ],
   "source": [
    "vid_labels[vid_labels['ssim'] < 0.95]"
   ]
  },
  {
   "cell_type": "code",
   "execution_count": 205,
   "metadata": {
    "hidden": true,
    "run_control": {
     "frozen": false,
     "read_only": false
    }
   },
   "outputs": [
    {
     "data": {
      "text/html": [
       "<img src=\"https://s3-us-west-2.amazonaws.com/ai2-vision-animation-gan/annotation_data/scene_gifs/s_06_e_01_shot_009097_009171.gif\"/>"
      ],
      "text/plain": [
       "<IPython.core.display.Image object>"
      ]
     },
     "execution_count": 205,
     "metadata": {},
     "output_type": "execute_result"
    }
   ],
   "source": [
    "complete_ds.get_video('s_06_e_01_shot_009097_009171').display_gif()"
   ]
  },
  {
   "cell_type": "code",
   "execution_count": 121,
   "metadata": {
    "hidden": true,
    "run_control": {
     "frozen": false,
     "read_only": false
    }
   },
   "outputs": [
    {
     "data": {
      "image/png": "[encoded data removed]",
      "text/plain": [
       "<matplotlib.figure.Figure at 0x134c6b940>"
      ]
     },
     "metadata": {},
     "output_type": "display_data"
    }
   ],
   "source": [
    "ax1 = plt.subplot(111)\n",
    "vid_labels[vid_labels['moving']==0]['ssim'].hist(ax=ax1, color='blue', label='static', alpha=0.5, bins=20) \n",
    "vid_labels[vid_labels['moving']==1]['ssim'].hist(ax=ax1, color='red', label='moving', alpha=0.5, bins=20)\n",
    "_ = ax1.legend(loc='best')"
   ]
  },
  {
   "cell_type": "code",
   "execution_count": 219,
   "metadata": {
    "hidden": true,
    "run_control": {
     "frozen": false,
     "read_only": false
    }
   },
   "outputs": [],
   "source": [
    "precision, recall, thresholds = precision_recall_curve(~vid_labels['moving'].astype(np.bool), vid_labels['ssim'])"
   ]
  },
  {
   "cell_type": "code",
   "execution_count": 226,
   "metadata": {
    "hidden": true,
    "run_control": {
     "frozen": false,
     "read_only": false
    }
   },
   "outputs": [],
   "source": [
    "classifier_res = pd.DataFrame([precision, recall, thresholds]).T"
   ]
  },
  {
   "cell_type": "code",
   "execution_count": 228,
   "metadata": {
    "hidden": true,
    "run_control": {
     "frozen": false,
     "read_only": false
    }
   },
   "outputs": [
    {
     "data": {
      "text/plain": [
       "array([0.8433268 , 0.84789977, 0.87853517, 0.89043079, 0.90056057,\n",
       "       0.91496366, 0.92535515, 0.93934269, 0.94206347, 0.94264807,\n",
       "       0.94359517, 0.94878579, 0.94955098, 0.95063594, 0.95076221,\n",
       "       0.95273444, 0.95352195, 0.96114309, 0.96163104, 0.96335806,\n",
       "       0.96463777, 0.96528644, 0.96698034, 0.96860615, 0.96894526,\n",
       "       0.9689687 , 0.96975068, 0.97080486, 0.97086216, 0.97122612,\n",
       "       0.97134609, 0.97253768, 0.97438152, 0.97497975, 0.97604357,\n",
       "       0.97664387, 0.97675988, 0.97766562, 0.97780071, 0.97788147,\n",
       "       0.97790313, 0.97812144, 0.97883901, 0.97972508, 0.98001   ,\n",
       "       0.98003424, 0.98009535, 0.98113051, 0.98145089, 0.98164379,\n",
       "       0.98266978, 0.9829134 , 0.98378227, 0.98386091, 0.98409744,\n",
       "       0.98446612, 0.98449562, 0.98488457, 0.98497139, 0.98507785,\n",
       "       0.98571912, 0.9858561 , 0.98630323, 0.98674095, 0.98680622,\n",
       "       0.98685481, 0.98698127, 0.98703748, 0.98798881, 0.98802691,\n",
       "       0.98814175, 0.98820269, 0.98825147, 0.98855351, 0.98872218,\n",
       "       0.98911785, 0.98949791, 0.98976764, 0.99004157, 0.99030606,\n",
       "       0.99059679, 0.99071636, 0.99078776, 0.99160369, 0.99226554,\n",
       "       0.99290379, 0.99349239, 0.99349547, 0.99357019, 0.99366138,\n",
       "       0.99377377, 0.99416158, 0.99483256, 0.9986196 ])"
      ]
     },
     "execution_count": 228,
     "metadata": {},
     "output_type": "execute_result"
    }
   ],
   "source": [
    "thresholds"
   ]
  },
  {
   "cell_type": "code",
   "execution_count": 220,
   "metadata": {
    "hidden": true,
    "run_control": {
     "frozen": false,
     "read_only": false
    }
   },
   "outputs": [
    {
     "data": {
      "image/png": "[encoded data removed]",
      "text/plain": [
       "<matplotlib.figure.Figure at 0x1399e4da0>"
      ]
     },
     "metadata": {},
     "output_type": "display_data"
    }
   ],
   "source": [
    "_ = plt.plot(recall, precision, lw=3)\n",
    "plt.xlabel('recall')\n",
    "plt.ylabel('precision')\n",
    "_ = plt.title('P-R curve')"
   ]
  },
  {
   "cell_type": "code",
   "execution_count": 221,
   "metadata": {
    "hidden": true,
    "run_control": {
     "frozen": false,
     "read_only": false
    }
   },
   "outputs": [
    {
     "data": {
      "text/plain": [
       "0.9971164934028502"
      ]
     },
     "execution_count": 221,
     "metadata": {},
     "output_type": "execute_result"
    }
   ],
   "source": [
    "auc(recall, precision)"
   ]
  },
  {
   "cell_type": "markdown",
   "metadata": {
    "heading_collapsed": true
   },
   "source": [
    "# all ds results"
   ]
  },
  {
   "cell_type": "code",
   "execution_count": 8,
   "metadata": {
    "hidden": true,
    "run_control": {
     "frozen": false,
     "read_only": false
    }
   },
   "outputs": [],
   "source": [
    "class_res = unpickle_this('movement_classifications.pkl')"
   ]
  },
  {
   "cell_type": "code",
   "execution_count": 46,
   "metadata": {
    "hidden": true,
    "run_control": {
     "frozen": false,
     "read_only": false
    }
   },
   "outputs": [],
   "source": [
    "all_bg_res = pd.DataFrame([list(val.items())[0] for val in class_res])"
   ]
  },
  {
   "cell_type": "code",
   "execution_count": 50,
   "metadata": {
    "hidden": true,
    "run_control": {
     "frozen": false,
     "read_only": false
    }
   },
   "outputs": [],
   "source": [
    "all_bg_res.columns = ['vid', 'ssim']"
   ]
  },
  {
   "cell_type": "code",
   "execution_count": 55,
   "metadata": {
    "hidden": true,
    "run_control": {
     "frozen": false,
     "read_only": false
    },
    "scrolled": true
   },
   "outputs": [],
   "source": [
    "all_bg_res = all_bg_res[all_bg_res['ssim'] < 10]"
   ]
  },
  {
   "cell_type": "code",
   "execution_count": 56,
   "metadata": {
    "hidden": true,
    "run_control": {
     "frozen": false,
     "read_only": false
    }
   },
   "outputs": [
    {
     "data": {
      "image/png": "[encoded data removed]",
      "text/plain": [
       "<matplotlib.figure.Figure at 0x135f7c208>"
      ]
     },
     "metadata": {},
     "output_type": "display_data"
    }
   ],
   "source": [
    "_ = all_bg_res.hist(bins=20)"
   ]
  },
  {
   "cell_type": "code",
   "execution_count": 57,
   "metadata": {
    "hidden": true,
    "run_control": {
     "frozen": false,
     "read_only": false
    }
   },
   "outputs": [],
   "source": [
    "moving_bg_vids = all_bg_res[all_bg_res['ssim'] < .95]"
   ]
  },
  {
   "cell_type": "code",
   "execution_count": 221,
   "metadata": {
    "hidden": true,
    "run_control": {
     "frozen": false,
     "read_only": false
    }
   },
   "outputs": [],
   "source": [
    "static_bg_vids = all_bg_res[all_bg_res['ssim'] >= .95]"
   ]
  },
  {
   "cell_type": "code",
   "execution_count": null,
   "metadata": {
    "hidden": true,
    "run_control": {
     "frozen": false,
     "read_only": false
    }
   },
   "outputs": [],
   "source": []
  },
  {
   "cell_type": "code",
   "execution_count": 224,
   "metadata": {
    "hidden": true,
    "run_control": {
     "frozen": false,
     "read_only": false
    }
   },
   "outputs": [
    {
     "data": {
      "text/plain": [
       "25228"
      ]
     },
     "execution_count": 224,
     "metadata": {},
     "output_type": "execute_result"
    }
   ],
   "source": [
    "static_bg_vids.shape + \n",
    "\n",
    "moving_bg_vids.shape"
   ]
  },
  {
   "cell_type": "code",
   "execution_count": 77,
   "metadata": {
    "hidden": true,
    "run_control": {
     "frozen": false,
     "read_only": false
    }
   },
   "outputs": [
    {
     "data": {
      "text/plain": [
       "0.8893170300972523"
      ]
     },
     "execution_count": 77,
     "metadata": {},
     "output_type": "execute_result"
    }
   ],
   "source": [
    "test_vid = moving_bg_vids.iloc[900]\n",
    "test_vid['ssim']"
   ]
  },
  {
   "cell_type": "code",
   "execution_count": 78,
   "metadata": {
    "hidden": true,
    "run_control": {
     "frozen": false,
     "read_only": false
    }
   },
   "outputs": [
    {
     "data": {
      "text/html": [
       "<img src=\"https://s3-us-west-2.amazonaws.com/ai2-vision-animation-gan/annotation_data/scene_gifs/s_02_e_15_shot_006209_006283.gif\"/>"
      ],
      "text/plain": [
       "<IPython.core.display.Image object>"
      ]
     },
     "execution_count": 78,
     "metadata": {},
     "output_type": "execute_result"
    }
   ],
   "source": [
    "complete_ds.get_video(test_vid['vid']).display_gif()"
   ]
  },
  {
   "cell_type": "code",
   "execution_count": 225,
   "metadata": {
    "hidden": true,
    "run_control": {
     "frozen": false,
     "read_only": false
    }
   },
   "outputs": [],
   "source": [
    "pickle_this(set(static_bg_vids['vid'].tolist()), 'static_vids.pkl')"
   ]
  },
  {
   "cell_type": "code",
   "execution_count": null,
   "metadata": {
    "hidden": true,
    "run_control": {
     "frozen": false,
     "read_only": false
    }
   },
   "outputs": [],
   "source": []
  },
  {
   "cell_type": "code",
   "execution_count": null,
   "metadata": {
    "hidden": true,
    "run_control": {
     "frozen": false,
     "read_only": false
    }
   },
   "outputs": [],
   "source": []
  },
  {
   "cell_type": "code",
   "execution_count": null,
   "metadata": {
    "hidden": true,
    "run_control": {
     "frozen": false,
     "read_only": false
    }
   },
   "outputs": [],
   "source": []
  },
  {
   "cell_type": "code",
   "execution_count": null,
   "metadata": {
    "hidden": true,
    "run_control": {
     "frozen": false,
     "read_only": false
    }
   },
   "outputs": [],
   "source": []
  },
  {
   "cell_type": "code",
   "execution_count": null,
   "metadata": {
    "hidden": true,
    "run_control": {
     "frozen": false,
     "read_only": false
    }
   },
   "outputs": [],
   "source": []
  },
  {
   "cell_type": "code",
   "execution_count": null,
   "metadata": {
    "hidden": true,
    "run_control": {
     "frozen": false,
     "read_only": false
    }
   },
   "outputs": [],
   "source": []
  },
  {
   "cell_type": "code",
   "execution_count": null,
   "metadata": {
    "hidden": true,
    "run_control": {
     "frozen": false,
     "read_only": false
    }
   },
   "outputs": [],
   "source": []
  },
  {
   "cell_type": "code",
   "execution_count": null,
   "metadata": {
    "hidden": true,
    "run_control": {
     "frozen": false,
     "read_only": false
    }
   },
   "outputs": [],
   "source": []
  },
  {
   "cell_type": "code",
   "execution_count": null,
   "metadata": {
    "hidden": true,
    "run_control": {
     "frozen": false,
     "read_only": false
    }
   },
   "outputs": [],
   "source": []
  },
  {
   "cell_type": "markdown",
   "metadata": {},
   "source": [
    "# redo viz"
   ]
  },
  {
   "cell_type": "code",
   "execution_count": 1,
   "metadata": {
    "run_control": {
     "frozen": false,
     "read_only": false
    }
   },
   "outputs": [],
   "source": [
    "import os"
   ]
  },
  {
   "cell_type": "code",
   "execution_count": 64,
   "metadata": {
    "run_control": {
     "frozen": false,
     "read_only": false
    }
   },
   "outputs": [],
   "source": [
    "trajectories_dir = '/Users/schwenk/wrk/animation_gan/dataset/release/flintstones_dataset/'\n",
    "tracking_dir = 'entity_tracking'\n",
    "tracking_dir = 'new_tracking'\n",
    "viz_dir = 'doc_viz'\n",
    "\n",
    "frame_arr_dir =  trajectories_dir + 'video_frames'\n",
    "\n",
    "def draw_video(video):\n",
    "    outfile = os.path.join(viz_dir, video['globalID'] + '.gif')\n",
    "    frame_arr_data = np.load(os.path.join(trajectories_dir, frame_arr_dir, video['globalID'] + '.npy'))\n",
    "    interp_img_seq = [pil.fromarray(frame_arr_data[frame_n]).convert('P', dither=None, palette=pil.ADAPTIVE) for frame_n in range(frame_arr_data.shape[0])]\n",
    "    interp_img_seq[0].save(outfile, save_all=True, optimize=False, duration=42, append_images=interp_img_seq[1:])\n",
    "    return\n",
    "\n",
    "def combine_frames(frame_images):\n",
    "    widths, heights = zip(*(img.size for img in frame_images))\n",
    "    total_width, max_height = sum(widths), max(heights)\n",
    "    combined_img = pil.new('RGB', (total_width, max_height))\n",
    "    x_offset = 0\n",
    "    for im in frame_images:\n",
    "        combined_img.paste(im, (x_offset, 0))\n",
    "        x_offset += im.size[0]\n",
    "    return combined_img\n",
    "\n",
    "def draw_keyframes(video):\n",
    "    outfile = os.path.join(viz_dir, video['globalID'] + '_keyframe.png')\n",
    "    frame_arr_data = np.load(os.path.join(trajectories_dir, frame_arr_dir, video['globalID'] + '.npy'))\n",
    "    keyframes = [pil.fromarray(frame_arr_data[frame_n]).convert('P', dither=None, palette=pil.ADAPTIVE) for frame_n in [10, 40, 70]]\n",
    "    keyframe_comb = combine_frames(keyframes)\n",
    "    keyframe_comb.save(outfile)"
   ]
  },
  {
   "cell_type": "code",
   "execution_count": 3,
   "metadata": {
    "run_control": {
     "frozen": false,
     "read_only": false
    }
   },
   "outputs": [],
   "source": [
    "def draw_all_bboxes(frame_arr_square, raw_bboxes, entity_type='character'):\n",
    "    color_assignments = {\n",
    "        'character': (0, 255, 255),\n",
    "        'object': (0, 255, 0),\n",
    "    }\n",
    "    frame_arr = cv2.resize(frame_arr_square, None, fx=asp_ratio, fy=1)\n",
    "    bboxes = copy.deepcopy([bb.reshape(2, 2) for bb in raw_bboxes])\n",
    "    for bb in bboxes:\n",
    "        bb[:, 0] = bb[:, 0] * scale_down * asp_ratio\n",
    "        bb[:, 1] = bb[:, 1] * scale_down * asp_ratio\n",
    "    bboxes = [bb.astype(int) for bb in bboxes]\n",
    "    _ = [cv2.rectangle(frame_arr, tuple(bb[0]), tuple(bb[1]), color_assignments[entity_type], thickness=1) for bb in\n",
    "         bboxes]\n",
    "    return pil.fromarray(frame_arr).convert('P', dither=None, palette=pil.ADAPTIVE)"
   ]
  },
  {
   "cell_type": "code",
   "execution_count": 4,
   "metadata": {
    "run_control": {
     "frozen": false,
     "read_only": false
    }
   },
   "outputs": [],
   "source": [
    "def display_gif():\n",
    "    gif_url = self.properties['s3_gif_base'] + + '.gif'\n",
    "    if url_only:\n",
    "        return gif_url\n",
    "    return Image(url=gif_url)"
   ]
  },
  {
   "cell_type": "code",
   "execution_count": 44,
   "metadata": {
    "run_control": {
     "frozen": false,
     "read_only": false
    }
   },
   "outputs": [],
   "source": [
    "def draw_all_bboxes(frame_arr_square, raw_bboxes, ent_type):\n",
    "    color_assignments = {\n",
    "        'characters': (0, 255, 255),\n",
    "        'objects': (0, 255, 0),\n",
    "    }\n",
    "    frame_arr = frame_arr_square # cv2.resize(frame_arr_square, None, fx=asp_ratio, fy=1)\n",
    "    bboxes = copy.deepcopy([bb.reshape(2, 2) for bb in raw_bboxes])\n",
    "    for bb in bboxes:\n",
    "        bb[:, 0] = bb[:, 0] \n",
    "        bb[:, 1] = bb[:, 1]\n",
    "    bboxes = [bb.astype(int) for bb in bboxes]\n",
    "    _ = [cv2.rectangle(frame_arr, tuple(bb[0]), tuple(bb[1]), color_assignments[ent_type], thickness=1) for bb in\n",
    "         bboxes]\n",
    "#     return pil.fromarray(frame_arr).convert('P', dither=None, palette=pil.ADAPTIVE)"
   ]
  },
  {
   "cell_type": "code",
   "execution_count": 45,
   "metadata": {
    "run_control": {
     "frozen": false,
     "read_only": false
    }
   },
   "outputs": [],
   "source": [
    "# def draw_video_tracking(video):\n",
    "#     outfile = os.path.join(viz_dir, video['globalID'] + '_tracking.gif')\n",
    "#     all_eids = [ent['globalID'] for ent in video['characters'] + video['objects']]\n",
    "#     entity_interps = [np.load(os.path.join(trajectories_dir, tracking_dir, eid + '.npy')) for eid in all_eids]\n",
    "#     frame_arr_data = np.load(os.path.join(trajectories_dir, frame_arr_dir, video['globalID'] + '.npy'))\n",
    "#     interp_img_seq = [draw_all_bboxes(frame_arr_data[frame_n], [entity_rect[frame_n] for entity_rect in entity_interps],\n",
    "#                                       'objects') for frame_n in range(frame_arr_data.shape[0])]\n",
    "#     interp_img_seq[0].save(outfile, save_all=True, optimize=True, duration=42, append_images=interp_img_seq[1:])\n",
    "#     return"
   ]
  },
  {
   "cell_type": "code",
   "execution_count": 65,
   "metadata": {
    "run_control": {
     "frozen": false,
     "read_only": false
    }
   },
   "outputs": [],
   "source": [
    "def draw_video_tracking(video):\n",
    "    outfile = os.path.join(viz_dir, video['globalID'] + '_tracking.gif')\n",
    "    all_eids = {'characters': [ent['globalID'] for ent in video['characters']]}\n",
    "    all_eids['objects'] = [ent['globalID'] for ent in video['objects']]\n",
    "    entity_interps = {ent_type: [np.load(os.path.join(trajectories_dir, tracking_dir, eid + '.npy')) for eid in eids] for ent_type , eids in all_eids.items()}\n",
    "    frame_arr_data = np.load(os.path.join(trajectories_dir, frame_arr_dir, video['globalID'] + '.npy'))\n",
    "    for ent_type, ents in entity_interps.items():\n",
    "        for ent in ents:\n",
    "            [draw_all_bboxes(frame_arr_data[frame_n], [entity_rect[frame_n] for entity_rect in ents], ent_type) for frame_n in range(frame_arr_data.shape[0])]\n",
    "    interp_img_seq = [pil.fromarray(frame_arr).convert('P', dither=None, palette=pil.ADAPTIVE) for frame_arr in frame_arr_data]\n",
    "    interp_img_seq[0].save(outfile, save_all=True, optimize=True, duration=42, append_images=interp_img_seq[1:])\n",
    "    return"
   ]
  },
  {
   "cell_type": "code",
   "execution_count": 67,
   "metadata": {
    "run_control": {
     "frozen": false,
     "read_only": false
    }
   },
   "outputs": [],
   "source": [
    "draw_video_tracking(sample_ds[0])"
   ]
  },
  {
   "cell_type": "code",
   "execution_count": null,
   "metadata": {
    "run_control": {
     "frozen": false,
     "read_only": false
    }
   },
   "outputs": [],
   "source": [
    "draw_video(sample_ds[0])"
   ]
  },
  {
   "cell_type": "code",
   "execution_count": 79,
   "metadata": {
    "run_control": {
     "frozen": false,
     "read_only": false
    }
   },
   "outputs": [],
   "source": [
    "draw_keyframes(sample_ds[0])"
   ]
  },
  {
   "cell_type": "code",
   "execution_count": null,
   "metadata": {
    "run_control": {
     "frozen": false,
     "read_only": false
    }
   },
   "outputs": [],
   "source": []
  },
  {
   "cell_type": "code",
   "execution_count": null,
   "metadata": {
    "run_control": {
     "frozen": false,
     "read_only": false
    }
   },
   "outputs": [],
   "source": []
  },
  {
   "cell_type": "code",
   "execution_count": null,
   "metadata": {
    "run_control": {
     "frozen": false,
     "read_only": false
    }
   },
   "outputs": [],
   "source": []
  },
  {
   "cell_type": "markdown",
   "metadata": {
    "heading_collapsed": true
   },
   "source": [
    "# make pages"
   ]
  },
  {
   "cell_type": "code",
   "execution_count": 23,
   "metadata": {
    "hidden": true,
    "run_control": {
     "frozen": false,
     "read_only": false
    }
   },
   "outputs": [],
   "source": [
    "from anigen_tools.release_docs import doc_video_group"
   ]
  },
  {
   "cell_type": "code",
   "execution_count": 13,
   "metadata": {
    "hidden": true,
    "run_control": {
     "frozen": false,
     "read_only": false
    }
   },
   "outputs": [],
   "source": [
    "with open('../build_dataset/first_sample_ids.txt', 'r') as f:\n",
    "    sample_ids = [l.strip() for l in f.readlines()]\n",
    "\n",
    "with open('/Users/schwenk/wrk/animation_gan/dataset/release/flintstones_annotations_v1-0.json') as f:\n",
    "    complete_ds = json.load(f)\n",
    "\n",
    "sample_ds = [vid for vid in complete_ds if vid['globalID'] in sample_ids]"
   ]
  },
  {
   "cell_type": "code",
   "execution_count": 24,
   "metadata": {
    "hidden": true,
    "run_control": {
     "frozen": false,
     "read_only": false
    }
   },
   "outputs": [],
   "source": [
    "doc_video_group(sample_ds[:5], make_images=True, vids_per_page=2)"
   ]
  },
  {
   "cell_type": "code",
   "execution_count": null,
   "metadata": {
    "hidden": true,
    "run_control": {
     "frozen": false,
     "read_only": false
    }
   },
   "outputs": [],
   "source": [
    "# doc_video_group(complete_ds.data[:15000], vids_per_page=10)"
   ]
  },
  {
   "cell_type": "code",
   "execution_count": null,
   "metadata": {
    "hidden": true,
    "run_control": {
     "frozen": false,
     "read_only": false
    }
   },
   "outputs": [],
   "source": []
  }
 ],
 "metadata": {
  "kernelspec": {
   "display_name": "Python 3",
   "language": "python",
   "name": "python3"
  },
  "language_info": {
   "codemirror_mode": {
    "name": "ipython",
    "version": 3
   },
   "file_extension": ".py",
   "mimetype": "text/x-python",
   "name": "python",
   "nbconvert_exporter": "python",
   "pygments_lexer": "ipython3",
   "version": "3.6.5"
  }
 },
 "nbformat": 4,
 "nbformat_minor": 2
}
