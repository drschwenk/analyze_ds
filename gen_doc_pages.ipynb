{
 "cells": [
  {
   "cell_type": "markdown",
   "metadata": {},
   "source": [
    "# Table of Contents\n",
    "* [make gifs](#make-gifs)\n"
   ]
  },
  {
   "cell_type": "code",
   "execution_count": 3,
   "metadata": {
    "run_control": {
     "frozen": false,
     "read_only": false
    }
   },
   "outputs": [],
   "source": [
    "%%capture\n",
    "from __future__ import division\n",
    "import numpy as np\n",
    "import pandas as pd\n",
    "import scipy.stats as st\n",
    "import itertools\n",
    "import math\n",
    "from collections import Counter, defaultdict\n",
    "%load_ext autoreload\n",
    "%autoreload\n",
    "\n",
    "from __future__ import division\n",
    "import numpy as np\n",
    "import pandas as pd\n",
    "import scipy.stats as st\n",
    "import itertools\n",
    "import functools\n",
    "import math\n",
    "from collections import Counter, defaultdict\n",
    "%load_ext autoreload\n",
    "%autoreload 2\n",
    "\n",
    "import copy\n",
    "import os\n",
    "import json\n",
    "from tqdm import tqdm as tqdm\n",
    "\n",
    "from IPython.display import Image\n",
    "import PIL.Image as pil\n",
    "import random\n",
    "import cv2\n",
    "import matplotlib as mpl\n",
    "mpl.use(\"Agg\")\n",
    "import matplotlib.pylab as plt\n",
    "#%matplotlib notebook\n",
    "%matplotlib inline\n",
    "%load_ext base16_mplrc\n",
    "%base16_mplrc light default\n",
    "#%base16_mplrc dark solarized\n",
    "plt.rcParams['grid.linewidth'] = 0\n",
    "plt.rcParams['figure.figsize'] = (16.0, 10.0)\n",
    "\n",
    "from anigen_tools.dataset import FlintstonesDataset\n",
    "from anigen_tools.mturk import unpickle_this, pickle_this\n",
    "from anigen_tools.trajectory_viz import filter_chars, filter_description\n",
    "from anigen_tools.trajectory_viz import avg_video_appearance\n",
    "from anigen_tools.trajectory_viz import draw_trajectory_set\n",
    "from anigen_tools.trajectory_viz import vid_filter"
   ]
  },
  {
   "cell_type": "code",
   "execution_count": 5,
   "metadata": {
    "run_control": {
     "frozen": false,
     "read_only": false
    }
   },
   "outputs": [],
   "source": [
    "from anigen_tools.mturk import unpickle_this\n",
    "from anigen_tools.docs import doc_video_group\n",
    "from anigen_tools.segmentation import segment_all_video_entities\n",
    "from anigen_tools.hybrid_segmentation import draw_video_segmentations\n",
    "from anigen_tools.tracking import draw_video_tracking"
   ]
  },
  {
   "cell_type": "code",
   "execution_count": 4,
   "metadata": {
    "run_control": {
     "frozen": false,
     "read_only": false
    }
   },
   "outputs": [],
   "source": [
    "import os\n",
    "\n",
    "from paramiko import SSHClient\n",
    "from scp import SCPClient\n",
    "\n",
    "import paramiko\n",
    "\n",
    "from scp import SCPClient"
   ]
  },
  {
   "cell_type": "code",
   "execution_count": 8,
   "metadata": {
    "run_control": {
     "frozen": false,
     "read_only": false
    }
   },
   "outputs": [],
   "source": [
    "# with open('first_sample_ids.txt', 'r') as f:\n",
    "#     sample_ids = [l.strip() for l in f.readlines()]"
   ]
  },
  {
   "cell_type": "code",
   "execution_count": 9,
   "metadata": {
    "run_control": {
     "frozen": false,
     "read_only": false
    }
   },
   "outputs": [],
   "source": [
    "sample_ds = unpickle_this('sample_ds_100.pkl')"
   ]
  },
  {
   "cell_type": "code",
   "execution_count": 10,
   "metadata": {
    "run_control": {
     "frozen": false,
     "read_only": false
    }
   },
   "outputs": [],
   "source": [
    "from tqdm import tqdm"
   ]
  },
  {
   "cell_type": "code",
   "execution_count": 8,
   "metadata": {
    "run_control": {
     "frozen": false,
     "read_only": false
    }
   },
   "outputs": [],
   "source": [
    "def get_remote_file(remote_dir, name):\n",
    "    ssh = SSHClient()\n",
    "    ssh.load_system_host_keys()\n",
    "    ssh.connect(\"ec2-54-218-100-182.us-west-2.compute.amazonaws.com\", username=\"ubuntu\", key_filename=\"/Users/schwenk/dustins_crap/wgmm/long_term_store/inter/dustins-dev.pem\")\n",
    "    scp = SCPClient(ssh.get_transport(), sanitize=lambda x: x)\n",
    "    scp.get(os.path.join(remote_dir, name + \"*\"), os.path.join('retrieved', remote_dir))"
   ]
  },
  {
   "cell_type": "code",
   "execution_count": 11,
   "metadata": {
    "run_control": {
     "frozen": false,
     "read_only": false
    }
   },
   "outputs": [],
   "source": [
    "segmentation_dir = 'trajectories/segmentation/'"
   ]
  },
  {
   "cell_type": "code",
   "execution_count": 12,
   "metadata": {
    "run_control": {
     "frozen": false,
     "read_only": false
    }
   },
   "outputs": [],
   "source": [
    "interp_dir = 'trajectories/interpolation/'\n",
    "tracking_dir = 'trajectories/tracking/'\n",
    "frame_dir = 'trajectories/frame_arr_data/'\n",
    "remote_dirs = [interp_dir, tracking_dir, frame_dir]"
   ]
  },
  {
   "cell_type": "code",
   "execution_count": 13,
   "metadata": {
    "run_control": {
     "frozen": false,
     "read_only": false
    }
   },
   "outputs": [],
   "source": [
    "cutout_dir = 'trajectories/cutout'"
   ]
  },
  {
   "cell_type": "code",
   "execution_count": 70,
   "metadata": {
    "run_control": {
     "frozen": false,
     "read_only": false
    }
   },
   "outputs": [],
   "source": [
    "for vid in sample_ids:\n",
    "    for rd in remote_dirs:\n",
    "        get_remote_file(rd, vid)"
   ]
  },
  {
   "cell_type": "code",
   "execution_count": 52,
   "metadata": {
    "run_control": {
     "frozen": false,
     "read_only": false
    }
   },
   "outputs": [],
   "source": [
    "for vid in sample_ids:\n",
    "    get_remote_file(segmentation_dir, vid)"
   ]
  },
  {
   "cell_type": "code",
   "execution_count": 186,
   "metadata": {
    "run_control": {
     "frozen": false,
     "read_only": false
    }
   },
   "outputs": [],
   "source": [
    "for vid in sample_ids:\n",
    "    get_remote_file(cutout_dir, vid)"
   ]
  },
  {
   "cell_type": "code",
   "execution_count": 39,
   "metadata": {
    "run_control": {
     "frozen": false,
     "read_only": false
    }
   },
   "outputs": [],
   "source": [
    "segment_all_video_entities(pvid, True)"
   ]
  },
  {
   "cell_type": "code",
   "execution_count": 19,
   "metadata": {
    "run_control": {
     "frozen": false,
     "read_only": false
    }
   },
   "outputs": [],
   "source": [
    "draw_video_segmentations(sample_vids_all[0], True)"
   ]
  },
  {
   "cell_type": "markdown",
   "metadata": {},
   "source": [
    "# make gifs"
   ]
  },
  {
   "cell_type": "code",
   "execution_count": 18,
   "metadata": {
    "run_control": {
     "frozen": false,
     "read_only": false
    },
    "scrolled": true
   },
   "outputs": [
    {
     "name": "stderr",
     "output_type": "stream",
     "text": [
      "\r",
      "  0%|          | 0/99 [00:00<?, ?it/s]"
     ]
    },
    {
     "name": "stdout",
     "output_type": "stream",
     "text": [
      "./retrieved/trajectories/viz/s_01_e_08_shot_003729_003803_char_0_segm.gif\n",
      "./retrieved/trajectories/viz/s_01_e_08_shot_003729_003803_char_1_segm.gif\n",
      "./retrieved/trajectories/viz/s_01_e_08_shot_003729_003803_pool_0_6_segm.gif\n",
      "./retrieved/trajectories/viz/s_01_e_08_shot_003729_003803_suit_1_6_segm.gif\n",
      "./retrieved/trajectories/viz/s_01_e_08_shot_003729_003803_chalk_1_13_segm.gif\n"
     ]
    },
    {
     "name": "stderr",
     "output_type": "stream",
     "text": [
      "\r",
      "  1%|          | 1/99 [00:02<04:14,  2.60s/it]"
     ]
    },
    {
     "name": "stdout",
     "output_type": "stream",
     "text": [
      "./retrieved/trajectories/viz/s_04_e_17_shot_030776_030850_char_0_segm.gif\n",
      "./retrieved/trajectories/viz/s_04_e_17_shot_030776_030850_char_1_segm.gif\n",
      "./retrieved/trajectories/viz/s_04_e_17_shot_030776_030850_eye_shadow_0_16_segm.gif\n",
      "./retrieved/trajectories/viz/s_04_e_17_shot_030776_030850_vase_1_4_segm.gif\n"
     ]
    },
    {
     "name": "stderr",
     "output_type": "stream",
     "text": [
      "\r",
      "  2%|▏         | 2/99 [00:04<03:34,  2.21s/it]"
     ]
    },
    {
     "name": "stdout",
     "output_type": "stream",
     "text": [
      "./retrieved/trajectories/viz/s_05_e_14_shot_026464_026538_char_0_segm.gif\n",
      "./retrieved/trajectories/viz/s_05_e_14_shot_026464_026538_char_1_segm.gif\n",
      "./retrieved/trajectories/viz/s_05_e_14_shot_026464_026538_paddles_1_5_segm.gif\n"
     ]
    },
    {
     "name": "stderr",
     "output_type": "stream",
     "text": [
      "\r",
      "  3%|▎         | 3/99 [00:06<03:23,  2.12s/it]"
     ]
    },
    {
     "name": "stdout",
     "output_type": "stream",
     "text": [
      "./retrieved/trajectories/viz/s_03_e_26_shot_024539_024613_char_0_segm.gif\n",
      "./retrieved/trajectories/viz/s_03_e_26_shot_024539_024613_shell_1_5_segm.gif\n"
     ]
    },
    {
     "name": "stderr",
     "output_type": "stream",
     "text": [
      "\r",
      "  4%|▍         | 4/99 [00:07<02:58,  1.88s/it]"
     ]
    },
    {
     "name": "stdout",
     "output_type": "stream",
     "text": [
      "./retrieved/trajectories/viz/s_01_e_11_shot_017367_017441_char_0_segm.gif\n",
      "./retrieved/trajectories/viz/s_01_e_11_shot_017367_017441_char_1_segm.gif\n",
      "./retrieved/trajectories/viz/s_01_e_11_shot_017367_017441_bucket_1_7_segm.gif\n"
     ]
    },
    {
     "name": "stderr",
     "output_type": "stream",
     "text": [
      "\r",
      "  5%|▌         | 5/99 [00:09<02:52,  1.83s/it]"
     ]
    },
    {
     "name": "stdout",
     "output_type": "stream",
     "text": [
      "./retrieved/trajectories/viz/s_01_e_03_shot_027423_027497_char_0_segm.gif\n",
      "./retrieved/trajectories/viz/s_01_e_03_shot_027423_027497_chair_0_5_segm.gif\n",
      "./retrieved/trajectories/viz/s_01_e_03_shot_027423_027497_rock_slab_1_9_segm.gif\n"
     ]
    },
    {
     "name": "stderr",
     "output_type": "stream",
     "text": [
      "\r",
      "  6%|▌         | 6/99 [00:11<02:54,  1.87s/it]"
     ]
    },
    {
     "name": "stdout",
     "output_type": "stream",
     "text": [
      "./retrieved/trajectories/viz/s_06_e_16_shot_003593_003667_char_0_segm.gif\n",
      "./retrieved/trajectories/viz/s_06_e_16_shot_003593_003667_cup_0_6_segm.gif\n",
      "./retrieved/trajectories/viz/s_06_e_16_shot_003593_003667_tv_0_9_segm.gif\n"
     ]
    },
    {
     "name": "stderr",
     "output_type": "stream",
     "text": [
      "\r",
      "  7%|▋         | 7/99 [00:13<02:54,  1.90s/it]"
     ]
    },
    {
     "name": "stdout",
     "output_type": "stream",
     "text": [
      "./retrieved/trajectories/viz/s_02_e_03_shot_014635_014709_char_0_segm.gif\n",
      "./retrieved/trajectories/viz/s_02_e_03_shot_014635_014709_chair_0_5_segm.gif\n"
     ]
    },
    {
     "name": "stderr",
     "output_type": "stream",
     "text": [
      "\r",
      "  8%|▊         | 8/99 [00:14<02:43,  1.80s/it]"
     ]
    },
    {
     "name": "stdout",
     "output_type": "stream",
     "text": [
      "./retrieved/trajectories/viz/s_02_e_03_shot_014635_014709_desk_1_8_segm.gif\n",
      "./retrieved/trajectories/viz/s_03_e_06_shot_013310_013384_char_0_segm.gif\n",
      "./retrieved/trajectories/viz/s_03_e_06_shot_013310_013384_paper_0_7_segm.gif\n"
     ]
    },
    {
     "name": "stderr",
     "output_type": "stream",
     "text": [
      "\r",
      "  9%|▉         | 9/99 [00:15<02:35,  1.72s/it]"
     ]
    },
    {
     "name": "stdout",
     "output_type": "stream",
     "text": [
      "./retrieved/trajectories/viz/s_06_e_18_shot_006963_007037_char_0_segm.gif\n",
      "./retrieved/trajectories/viz/s_06_e_18_shot_006963_007037_television_0_2_segm.gif\n",
      "./retrieved/trajectories/viz/s_06_e_18_shot_006963_007037_television_1_8_segm.gif\n"
     ]
    },
    {
     "name": "stderr",
     "output_type": "stream",
     "text": [
      "\r",
      " 10%|█         | 10/99 [00:17<02:38,  1.78s/it]"
     ]
    },
    {
     "name": "stdout",
     "output_type": "stream",
     "text": [
      "./retrieved/trajectories/viz/s_05_e_02_shot_029799_029873_char_0_segm.gif\n",
      "./retrieved/trajectories/viz/s_05_e_02_shot_029799_029873_char_1_segm.gif\n",
      "./retrieved/trajectories/viz/s_05_e_02_shot_029799_029873_ground_0_6_segm.gif\n"
     ]
    },
    {
     "name": "stderr",
     "output_type": "stream",
     "text": [
      "\r",
      " 11%|█         | 11/99 [00:19<02:39,  1.81s/it]"
     ]
    },
    {
     "name": "stdout",
     "output_type": "stream",
     "text": [
      "./retrieved/trajectories/viz/s_02_e_03_shot_027188_027262_char_0_segm.gif\n",
      "./retrieved/trajectories/viz/s_02_e_03_shot_027188_027262_hat,_1_4_segm.gif\n"
     ]
    },
    {
     "name": "stderr",
     "output_type": "stream",
     "text": [
      "\r",
      " 12%|█▏        | 12/99 [00:21<02:32,  1.75s/it]"
     ]
    },
    {
     "name": "stdout",
     "output_type": "stream",
     "text": [
      "./retrieved/trajectories/viz/s_02_e_05_shot_033110_033184_char_0_segm.gif\n",
      "./retrieved/trajectories/viz/s_02_e_05_shot_033110_033184_char_1_segm.gif\n",
      "./retrieved/trajectories/viz/s_02_e_05_shot_033110_033184_doorway_0_6_segm.gif\n"
     ]
    },
    {
     "name": "stderr",
     "output_type": "stream",
     "text": [
      "\r",
      " 13%|█▎        | 13/99 [00:23<02:38,  1.84s/it]"
     ]
    },
    {
     "name": "stdout",
     "output_type": "stream",
     "text": [
      "./retrieved/trajectories/viz/s_06_e_07_shot_042740_042814_char_0_segm.gif\n",
      "./retrieved/trajectories/viz/s_06_e_07_shot_042740_042814_char_1_segm.gif\n",
      "./retrieved/trajectories/viz/s_06_e_07_shot_042740_042814_couch_0_7_segm.gif\n",
      "./retrieved/trajectories/viz/s_06_e_07_shot_042740_042814_bouquet_1_4_segm.gif\n",
      "./retrieved/trajectories/viz/s_06_e_07_shot_042740_042814_flowers_1_7_segm.gif\n",
      "./retrieved/trajectories/viz/s_06_e_07_shot_042740_042814_helmet_2_7_segm.gif\n"
     ]
    },
    {
     "name": "stderr",
     "output_type": "stream",
     "text": [
      "\r",
      " 14%|█▍        | 14/99 [00:26<02:42,  1.92s/it]"
     ]
    },
    {
     "name": "stdout",
     "output_type": "stream",
     "text": [
      "./retrieved/trajectories/viz/s_06_e_07_shot_035889_035963_char_0_segm.gif\n",
      "./retrieved/trajectories/viz/s_06_e_07_shot_035889_035963_char_1_segm.gif\n",
      "./retrieved/trajectories/viz/s_06_e_07_shot_035889_035963_suits_0_10_segm.gif\n"
     ]
    },
    {
     "name": "stderr",
     "output_type": "stream",
     "text": [
      "\r",
      " 15%|█▌        | 15/99 [00:28<02:40,  1.92s/it]"
     ]
    },
    {
     "name": "stdout",
     "output_type": "stream",
     "text": [
      "./retrieved/trajectories/viz/s_01_e_11_shot_024374_024448_char_0_segm.gif\n",
      "./retrieved/trajectories/viz/s_01_e_11_shot_024374_024448_refrigerator_door_0_10_segm.gif\n",
      "./retrieved/trajectories/viz/s_01_e_11_shot_024374_024448_piece_of_meat_1_9_segm.gif\n",
      "./retrieved/trajectories/viz/s_01_e_11_shot_024374_024448_bone_1_12_segm.gif\n"
     ]
    },
    {
     "name": "stderr",
     "output_type": "stream",
     "text": [
      "\r",
      " 16%|█▌        | 16/99 [00:30<02:40,  1.93s/it]"
     ]
    },
    {
     "name": "stdout",
     "output_type": "stream",
     "text": [
      "./retrieved/trajectories/viz/s_04_e_22_shot_021109_021183_char_0_segm.gif\n",
      "./retrieved/trajectories/viz/s_04_e_22_shot_021109_021183_butterfly_0_13_segm.gif\n",
      "./retrieved/trajectories/viz/s_04_e_22_shot_021109_021183_roof_0_16_segm.gif\n"
     ]
    },
    {
     "name": "stderr",
     "output_type": "stream",
     "text": [
      "\r",
      " 17%|█▋        | 17/99 [00:32<02:36,  1.91s/it]"
     ]
    },
    {
     "name": "stdout",
     "output_type": "stream",
     "text": [
      "./retrieved/trajectories/viz/s_02_e_18_shot_030062_030136_char_0_segm.gif\n",
      "./retrieved/trajectories/viz/s_02_e_18_shot_030062_030136_char_1_segm.gif\n",
      "./retrieved/trajectories/viz/s_02_e_18_shot_030062_030136_table_0_7_segm.gif\n"
     ]
    },
    {
     "name": "stderr",
     "output_type": "stream",
     "text": [
      "\r",
      " 18%|█▊        | 18/99 [00:34<02:33,  1.90s/it]"
     ]
    },
    {
     "name": "stdout",
     "output_type": "stream",
     "text": [
      "./retrieved/trajectories/viz/s_06_e_11_shot_019248_019322_char_0_segm.gif\n",
      "./retrieved/trajectories/viz/s_06_e_11_shot_019248_019322_char_1_segm.gif\n",
      "./retrieved/trajectories/viz/s_06_e_11_shot_019248_019322_floor_0_9_segm.gif\n"
     ]
    },
    {
     "name": "stderr",
     "output_type": "stream",
     "text": [
      "\r",
      " 19%|█▉        | 19/99 [00:35<02:29,  1.87s/it]"
     ]
    },
    {
     "name": "stdout",
     "output_type": "stream",
     "text": [
      "./retrieved/trajectories/viz/s_02_e_21_shot_015741_015815_char_0_segm.gif\n",
      "./retrieved/trajectories/viz/s_02_e_21_shot_015741_015815_hole_0_11_segm.gif\n",
      "./retrieved/trajectories/viz/s_02_e_21_shot_015741_015815_stone_wall_0_15_segm.gif\n"
     ]
    },
    {
     "name": "stderr",
     "output_type": "stream",
     "text": [
      "\r",
      " 20%|██        | 20/99 [00:37<02:27,  1.87s/it]"
     ]
    },
    {
     "name": "stdout",
     "output_type": "stream",
     "text": [
      "./retrieved/trajectories/viz/s_03_e_19_shot_035464_035538_char_0_segm.gif\n",
      "./retrieved/trajectories/viz/s_03_e_19_shot_035464_035538_char_1_segm.gif\n",
      "./retrieved/trajectories/viz/s_03_e_19_shot_035464_035538_hammock_0_6_segm.gif\n",
      "./retrieved/trajectories/viz/s_03_e_19_shot_035464_035538_cap_1_8_segm.gif\n"
     ]
    },
    {
     "name": "stderr",
     "output_type": "stream",
     "text": [
      "\r",
      " 21%|██        | 21/99 [00:40<02:31,  1.94s/it]"
     ]
    },
    {
     "name": "stdout",
     "output_type": "stream",
     "text": [
      "./retrieved/trajectories/viz/s_01_e_25_shot_017596_017670_char_0_segm.gif\n",
      "./retrieved/trajectories/viz/s_01_e_25_shot_017596_017670_script_0_9_segm.gif\n"
     ]
    },
    {
     "name": "stderr",
     "output_type": "stream",
     "text": [
      "\r",
      " 22%|██▏       | 22/99 [00:41<02:26,  1.90s/it]"
     ]
    },
    {
     "name": "stdout",
     "output_type": "stream",
     "text": [
      "./retrieved/trajectories/viz/s_04_e_18_shot_011352_011426_char_0_segm.gif\n",
      "./retrieved/trajectories/viz/s_04_e_18_shot_011352_011426_cap_0_3_segm.gif\n",
      "./retrieved/trajectories/viz/s_04_e_18_shot_011352_011426_desk_0_11_segm.gif\n"
     ]
    },
    {
     "name": "stderr",
     "output_type": "stream",
     "text": [
      "\r",
      " 23%|██▎       | 23/99 [00:43<02:23,  1.89s/it]"
     ]
    },
    {
     "name": "stdout",
     "output_type": "stream",
     "text": [
      "./retrieved/trajectories/viz/s_04_e_14_shot_040665_040739_char_0_segm.gif\n",
      "./retrieved/trajectories/viz/s_04_e_14_shot_040665_040739_char_1_segm.gif\n",
      "./retrieved/trajectories/viz/s_04_e_14_shot_040665_040739_antenna_0_12_segm.gif\n"
     ]
    },
    {
     "name": "stderr",
     "output_type": "stream",
     "text": [
      "\r",
      " 24%|██▍       | 24/99 [00:45<02:21,  1.88s/it]"
     ]
    },
    {
     "name": "stdout",
     "output_type": "stream",
     "text": [
      "./retrieved/trajectories/viz/s_05_e_09_shot_040095_040169_char_0_segm.gif\n",
      "./retrieved/trajectories/viz/s_05_e_09_shot_040095_040169_bed,_0_5_segm.gif\n"
     ]
    },
    {
     "name": "stderr",
     "output_type": "stream",
     "text": [
      "\r",
      " 25%|██▌       | 25/99 [00:46<02:18,  1.88s/it]"
     ]
    },
    {
     "name": "stdout",
     "output_type": "stream",
     "text": [
      "./retrieved/trajectories/viz/s_02_e_01_shot_030444_030518_char_0_segm.gif\n",
      "./retrieved/trajectories/viz/s_02_e_01_shot_030444_030518_desk_0_6_segm.gif\n",
      "./retrieved/trajectories/viz/s_02_e_01_shot_030444_030518_shirt_2_6_segm.gif\n",
      "./retrieved/trajectories/viz/s_02_e_01_shot_030444_030518_cap_2_9_segm.gif\n",
      "./retrieved/trajectories/viz/s_02_e_01_shot_030444_030518_desk,_2_12_segm.gif\n",
      "./retrieved/trajectories/viz/s_02_e_01_shot_030444_030518_desk_2_23_segm.gif\n"
     ]
    },
    {
     "name": "stderr",
     "output_type": "stream",
     "text": [
      "\r",
      " 26%|██▋       | 26/99 [00:49<02:18,  1.90s/it]"
     ]
    },
    {
     "name": "stdout",
     "output_type": "stream",
     "text": [
      "./retrieved/trajectories/viz/s_02_e_30_shot_033348_033422_char_0_segm.gif\n",
      "./retrieved/trajectories/viz/s_02_e_30_shot_033348_033422_char_1_segm.gif\n",
      "./retrieved/trajectories/viz/s_02_e_30_shot_033348_033422_bag_1_4_segm.gif\n",
      "./retrieved/trajectories/viz/s_02_e_30_shot_033348_033422_groceries_1_6_segm.gif\n"
     ]
    },
    {
     "name": "stderr",
     "output_type": "stream",
     "text": [
      "\r",
      " 27%|██▋       | 27/99 [00:51<02:17,  1.91s/it]"
     ]
    },
    {
     "name": "stdout",
     "output_type": "stream",
     "text": [
      "./retrieved/trajectories/viz/s_03_e_19_shot_029238_029312_char_0_segm.gif\n",
      "./retrieved/trajectories/viz/s_03_e_19_shot_029238_029312_hammock_0_5_segm.gif\n"
     ]
    },
    {
     "name": "stderr",
     "output_type": "stream",
     "text": [
      "\r",
      " 28%|██▊       | 28/99 [00:53<02:14,  1.89s/it]"
     ]
    },
    {
     "name": "stdout",
     "output_type": "stream",
     "text": [
      "./retrieved/trajectories/viz/s_03_e_18_shot_025408_025482_char_0_segm.gif\n",
      "./retrieved/trajectories/viz/s_03_e_18_shot_025408_025482_golf_flag_0_8_segm.gif\n"
     ]
    },
    {
     "name": "stderr",
     "output_type": "stream",
     "text": [
      "\r",
      " 29%|██▉       | 29/99 [00:54<02:10,  1.87s/it]"
     ]
    },
    {
     "name": "stdout",
     "output_type": "stream",
     "text": [
      "./retrieved/trajectories/viz/s_03_e_18_shot_025408_025482_hole_0_12_segm.gif\n",
      "./retrieved/trajectories/viz/s_03_e_18_shot_025408_025482_ball_0_16_segm.gif\n",
      "./retrieved/trajectories/viz/s_01_e_03_shot_023155_023229_char_0_segm.gif\n",
      "./retrieved/trajectories/viz/s_01_e_03_shot_023155_023229_char_1_segm.gif\n",
      "./retrieved/trajectories/viz/s_01_e_03_shot_023155_023229_wall_1_8_segm.gif\n"
     ]
    },
    {
     "name": "stderr",
     "output_type": "stream",
     "text": [
      "\r",
      " 30%|███       | 30/99 [00:55<02:08,  1.86s/it]"
     ]
    },
    {
     "name": "stdout",
     "output_type": "stream",
     "text": [
      "./retrieved/trajectories/viz/s_03_e_22_shot_029491_029565_char_0_segm.gif\n",
      "./retrieved/trajectories/viz/s_03_e_22_shot_029491_029565_char_1_segm.gif\n",
      "./retrieved/trajectories/viz/s_03_e_22_shot_029491_029565_hat_0_18_segm.gif\n"
     ]
    },
    {
     "name": "stderr",
     "output_type": "stream",
     "text": [
      "\r",
      " 31%|███▏      | 31/99 [00:57<02:06,  1.86s/it]"
     ]
    },
    {
     "name": "stdout",
     "output_type": "stream",
     "text": [
      "./retrieved/trajectories/viz/s_05_e_22_shot_017017_017091_char_0_segm.gif\n"
     ]
    },
    {
     "name": "stderr",
     "output_type": "stream",
     "text": [
      "\r",
      " 32%|███▏      | 32/99 [00:58<02:01,  1.82s/it]"
     ]
    },
    {
     "name": "stdout",
     "output_type": "stream",
     "text": [
      "./retrieved/trajectories/viz/s_05_e_22_shot_017017_017091_hat_0_7_segm.gif\n",
      "./retrieved/trajectories/viz/s_02_e_13_shot_021362_021436_char_0_segm.gif\n",
      "./retrieved/trajectories/viz/s_02_e_13_shot_021362_021436_bone_1_3_segm.gif\n"
     ]
    },
    {
     "name": "stderr",
     "output_type": "stream",
     "text": [
      "\r",
      " 33%|███▎      | 33/99 [00:59<01:58,  1.79s/it]"
     ]
    },
    {
     "name": "stdout",
     "output_type": "stream",
     "text": [
      "./retrieved/trajectories/viz/s_02_e_11_shot_008415_008489_char_0_segm.gif\n",
      "./retrieved/trajectories/viz/s_02_e_11_shot_008415_008489_char_1_segm.gif\n",
      "./retrieved/trajectories/viz/s_02_e_11_shot_008415_008489_car_0_8_segm.gif\n"
     ]
    },
    {
     "name": "stderr",
     "output_type": "stream",
     "text": [
      "\r",
      " 34%|███▍      | 34/99 [01:00<01:56,  1.79s/it]"
     ]
    },
    {
     "name": "stdout",
     "output_type": "stream",
     "text": [
      "./retrieved/trajectories/viz/s_05_e_13_shot_030281_030355_char_0_segm.gif\n",
      "./retrieved/trajectories/viz/s_05_e_13_shot_030281_030355_char_1_segm.gif\n",
      "./retrieved/trajectories/viz/s_05_e_13_shot_030281_030355_wall_1_5_segm.gif\n",
      "./retrieved/trajectories/viz/s_05_e_13_shot_030281_030355_helmet_3_3_segm.gif\n"
     ]
    },
    {
     "name": "stderr",
     "output_type": "stream",
     "text": [
      "\r",
      " 35%|███▌      | 35/99 [01:03<01:55,  1.80s/it]"
     ]
    },
    {
     "name": "stdout",
     "output_type": "stream",
     "text": [
      "./retrieved/trajectories/viz/s_05_e_13_shot_030281_030355_goggles_3_5_segm.gif\n",
      "./retrieved/trajectories/viz/s_01_e_24_shot_025518_025592_char_0_segm.gif\n",
      "./retrieved/trajectories/viz/s_01_e_24_shot_025518_025592_shirt_0_6_segm.gif\n",
      "./retrieved/trajectories/viz/s_01_e_24_shot_025518_025592_desk_0_12_segm.gif\n"
     ]
    },
    {
     "name": "stderr",
     "output_type": "stream",
     "text": [
      "\r",
      " 36%|███▋      | 36/99 [01:04<01:53,  1.80s/it]"
     ]
    },
    {
     "name": "stdout",
     "output_type": "stream",
     "text": [
      "./retrieved/trajectories/viz/s_03_e_09_shot_034034_034108_char_0_segm.gif\n",
      "./retrieved/trajectories/viz/s_03_e_09_shot_034034_034108_char_1_segm.gif\n",
      "./retrieved/trajectories/viz/s_03_e_09_shot_034034_034108_costume_0_11_segm.gif\n"
     ]
    },
    {
     "name": "stderr",
     "output_type": "stream",
     "text": [
      "\r",
      " 37%|███▋      | 37/99 [01:06<01:50,  1.79s/it]"
     ]
    },
    {
     "name": "stdout",
     "output_type": "stream",
     "text": [
      "./retrieved/trajectories/viz/s_02_e_17_shot_014483_014557_char_0_segm.gif\n",
      "./retrieved/trajectories/viz/s_02_e_17_shot_014483_014557_char_1_segm.gif\n",
      "./retrieved/trajectories/viz/s_02_e_17_shot_014483_014557_chair_1_5_segm.gif\n",
      "./retrieved/trajectories/viz/s_02_e_17_shot_014483_014557_elbow_1_12_segm.gif\n",
      "./retrieved/trajectories/viz/s_02_e_17_shot_014483_014557_chair_1_18_segm.gif\n",
      "./retrieved/trajectories/viz/s_02_e_17_shot_014483_014557_couch_2_5_segm.gif\n",
      "./retrieved/trajectories/viz/s_02_e_17_shot_014483_014557_ground_2_11_segm.gif\n"
     ]
    },
    {
     "name": "stderr",
     "output_type": "stream",
     "text": [
      "\r",
      " 38%|███▊      | 38/99 [01:09<01:51,  1.84s/it]"
     ]
    },
    {
     "name": "stdout",
     "output_type": "stream",
     "text": [
      "./retrieved/trajectories/viz/s_05_e_08_shot_024603_024677_char_0_segm.gif\n",
      "./retrieved/trajectories/viz/s_05_e_08_shot_024603_024677_char_1_segm.gif\n",
      "./retrieved/trajectories/viz/s_05_e_08_shot_024603_024677_trench_coat_0_18_segm.gif\n",
      "./retrieved/trajectories/viz/s_05_e_08_shot_024603_024677_dress_0_25_segm.gif\n"
     ]
    },
    {
     "name": "stderr",
     "output_type": "stream",
     "text": [
      "\r",
      " 39%|███▉      | 39/99 [01:11<01:49,  1.83s/it]"
     ]
    },
    {
     "name": "stdout",
     "output_type": "stream",
     "text": [
      "./retrieved/trajectories/viz/s_02_e_03_shot_036993_037067_char_0_segm.gif\n",
      "./retrieved/trajectories/viz/s_02_e_03_shot_036993_037067_shirt_1_5_segm.gif\n"
     ]
    },
    {
     "name": "stderr",
     "output_type": "stream",
     "text": [
      "\r",
      " 40%|████      | 40/99 [01:12<01:47,  1.82s/it]"
     ]
    },
    {
     "name": "stdout",
     "output_type": "stream",
     "text": [
      "./retrieved/trajectories/viz/s_02_e_03_shot_036993_037067_fist_2_16_segm.gif\n",
      "./retrieved/trajectories/viz/s_05_e_04_shot_023749_023823_char_0_segm.gif\n"
     ]
    },
    {
     "name": "stderr",
     "output_type": "stream",
     "text": [
      "\r",
      " 41%|████▏     | 41/99 [01:13<01:44,  1.79s/it]"
     ]
    },
    {
     "name": "stdout",
     "output_type": "stream",
     "text": [
      "./retrieved/trajectories/viz/s_05_e_04_shot_023749_023823_mask_0_2_segm.gif\n",
      "./retrieved/trajectories/viz/s_06_e_13_shot_041125_041199_char_0_segm.gif\n",
      "./retrieved/trajectories/viz/s_06_e_13_shot_041125_041199_char_1_segm.gif\n",
      "./retrieved/trajectories/viz/s_06_e_13_shot_041125_041199_couch_0_7_segm.gif\n"
     ]
    },
    {
     "name": "stderr",
     "output_type": "stream",
     "text": [
      "\r",
      " 42%|████▏     | 42/99 [01:15<01:42,  1.81s/it]"
     ]
    },
    {
     "name": "stdout",
     "output_type": "stream",
     "text": [
      "./retrieved/trajectories/viz/s_04_e_08_shot_004004_004078_char_0_segm.gif\n",
      "./retrieved/trajectories/viz/s_04_e_08_shot_004004_004078_hat_0_4_segm.gif\n"
     ]
    },
    {
     "name": "stderr",
     "output_type": "stream",
     "text": [
      "\r",
      " 43%|████▎     | 43/99 [01:17<01:40,  1.79s/it]"
     ]
    },
    {
     "name": "stdout",
     "output_type": "stream",
     "text": [
      "./retrieved/trajectories/viz/s_01_e_16_shot_030358_030432_char_0_segm.gif\n",
      "./retrieved/trajectories/viz/s_01_e_16_shot_030358_030432_char_1_segm.gif\n",
      "./retrieved/trajectories/viz/s_01_e_16_shot_030358_030432_helmet_0_5_segm.gif\n"
     ]
    },
    {
     "name": "stderr",
     "output_type": "stream",
     "text": [
      "\r",
      " 44%|████▍     | 44/99 [01:18<01:38,  1.79s/it]"
     ]
    },
    {
     "name": "stdout",
     "output_type": "stream",
     "text": [
      "./retrieved/trajectories/viz/s_06_e_10_shot_003127_003201_char_0_segm.gif\n",
      "./retrieved/trajectories/viz/s_06_e_10_shot_003127_003201_screen_0_11_segm.gif\n"
     ]
    },
    {
     "name": "stderr",
     "output_type": "stream",
     "text": [
      "\r",
      " 45%|████▌     | 45/99 [01:20<01:36,  1.78s/it]"
     ]
    },
    {
     "name": "stdout",
     "output_type": "stream",
     "text": [
      "./retrieved/trajectories/viz/s_04_e_26_shot_016234_016308_char_0_segm.gif\n",
      "./retrieved/trajectories/viz/s_04_e_26_shot_016234_016308_char_1_segm.gif\n",
      "./retrieved/trajectories/viz/s_04_e_26_shot_016234_016308_hat_1_11_segm.gif\n"
     ]
    },
    {
     "name": "stderr",
     "output_type": "stream",
     "text": [
      "\r",
      " 46%|████▋     | 46/99 [01:21<01:34,  1.78s/it]"
     ]
    },
    {
     "name": "stdout",
     "output_type": "stream",
     "text": [
      "./retrieved/trajectories/viz/s_02_e_31_shot_021011_021085_char_0_segm.gif\n",
      "./retrieved/trajectories/viz/s_02_e_31_shot_021011_021085_char_1_segm.gif\n",
      "./retrieved/trajectories/viz/s_02_e_31_shot_021011_021085_corsage_1_3_segm.gif\n",
      "./retrieved/trajectories/viz/s_02_e_31_shot_021011_021085_mustache_1_5_segm.gif\n"
     ]
    },
    {
     "name": "stderr",
     "output_type": "stream",
     "text": [
      "\r",
      " 47%|████▋     | 47/99 [01:23<01:32,  1.77s/it]"
     ]
    },
    {
     "name": "stdout",
     "output_type": "stream",
     "text": [
      "./retrieved/trajectories/viz/s_05_e_11_shot_012430_012504_char_0_segm.gif\n",
      "./retrieved/trajectories/viz/s_05_e_11_shot_012430_012504_char_1_segm.gif\n",
      "./retrieved/trajectories/viz/s_05_e_11_shot_012430_012504_hammer_0_6_segm.gif\n"
     ]
    },
    {
     "name": "stderr",
     "output_type": "stream",
     "text": [
      "\r",
      " 48%|████▊     | 48/99 [01:24<01:29,  1.76s/it]"
     ]
    },
    {
     "name": "stdout",
     "output_type": "stream",
     "text": [
      "./retrieved/trajectories/viz/s_05_e_25_shot_000528_000602_char_0_segm.gif\n",
      "./retrieved/trajectories/viz/s_05_e_25_shot_000528_000602_car_0_10_segm.gif\n"
     ]
    },
    {
     "name": "stderr",
     "output_type": "stream",
     "text": [
      "\r",
      " 49%|████▉     | 49/99 [01:25<01:27,  1.75s/it]"
     ]
    },
    {
     "name": "stdout",
     "output_type": "stream",
     "text": [
      "./retrieved/trajectories/viz/s_01_e_08_shot_001903_001977_char_0_segm.gif\n",
      "./retrieved/trajectories/viz/s_01_e_08_shot_001903_001977_rock_chair_1_5_segm.gif\n",
      "./retrieved/trajectories/viz/s_01_e_08_shot_001903_001977_television_1_10_segm.gif\n",
      "./retrieved/trajectories/viz/s_01_e_08_shot_001903_001977_chair_2_14_segm.gif\n",
      "./retrieved/trajectories/viz/s_01_e_08_shot_001903_001977_floor_2_19_segm.gif\n"
     ]
    },
    {
     "name": "stderr",
     "output_type": "stream",
     "text": [
      "\r",
      " 51%|█████     | 50/99 [01:29<01:27,  1.79s/it]"
     ]
    },
    {
     "name": "stdout",
     "output_type": "stream",
     "text": [
      "./retrieved/trajectories/viz/s_03_e_17_shot_041699_041773_char_0_segm.gif\n",
      "./retrieved/trajectories/viz/s_03_e_17_shot_041699_041773_char_1_segm.gif\n",
      "./retrieved/trajectories/viz/s_03_e_17_shot_041699_041773_costume_0_5_segm.gif\n",
      "./retrieved/trajectories/viz/s_03_e_17_shot_041699_041773_shirt_0_13_segm.gif\n",
      "./retrieved/trajectories/viz/s_03_e_17_shot_041699_041773_chair_0_23_segm.gif\n"
     ]
    },
    {
     "name": "stderr",
     "output_type": "stream",
     "text": [
      "\r",
      " 52%|█████▏    | 51/99 [01:32<01:27,  1.82s/it]"
     ]
    },
    {
     "name": "stdout",
     "output_type": "stream",
     "text": [
      "./retrieved/trajectories/viz/s_01_e_19_shot_020229_020303_char_0_segm.gif\n",
      "./retrieved/trajectories/viz/s_01_e_19_shot_020229_020303_char_1_segm.gif\n",
      "./retrieved/trajectories/viz/s_01_e_19_shot_020229_020303_piano_0_5_segm.gif\n"
     ]
    },
    {
     "name": "stderr",
     "output_type": "stream",
     "text": [
      "\r",
      " 53%|█████▎    | 52/99 [01:34<01:25,  1.82s/it]"
     ]
    },
    {
     "name": "stdout",
     "output_type": "stream",
     "text": [
      "./retrieved/trajectories/viz/s_04_e_03_shot_004929_005003_char_0_segm.gif\n",
      "./retrieved/trajectories/viz/s_04_e_03_shot_004929_005003_floor_0_7_segm.gif\n"
     ]
    },
    {
     "name": "stderr",
     "output_type": "stream",
     "text": [
      "\r",
      " 54%|█████▎    | 53/99 [01:36<01:23,  1.82s/it]"
     ]
    },
    {
     "name": "stdout",
     "output_type": "stream",
     "text": [
      "./retrieved/trajectories/viz/s_06_e_20_shot_020293_020367_char_0_segm.gif\n",
      "./retrieved/trajectories/viz/s_06_e_20_shot_020293_020367_char_1_segm.gif\n"
     ]
    },
    {
     "name": "stderr",
     "output_type": "stream",
     "text": [
      "\r",
      " 55%|█████▍    | 54/99 [01:37<01:21,  1.81s/it]"
     ]
    },
    {
     "name": "stdout",
     "output_type": "stream",
     "text": [
      "./retrieved/trajectories/viz/s_03_e_04_shot_006939_007013_char_0_segm.gif\n"
     ]
    },
    {
     "name": "stderr",
     "output_type": "stream",
     "text": [
      "\r",
      " 56%|█████▌    | 55/99 [01:38<01:18,  1.79s/it]"
     ]
    },
    {
     "name": "stdout",
     "output_type": "stream",
     "text": [
      "./retrieved/trajectories/viz/s_05_e_16_shot_028446_028520_char_0_segm.gif\n"
     ]
    },
    {
     "name": "stderr",
     "output_type": "stream",
     "text": [
      "\r",
      " 57%|█████▋    | 56/99 [01:39<01:16,  1.77s/it]"
     ]
    },
    {
     "name": "stdout",
     "output_type": "stream",
     "text": [
      "./retrieved/trajectories/viz/s_03_e_01_shot_005846_005920_char_0_segm.gif\n"
     ]
    },
    {
     "name": "stderr",
     "output_type": "stream",
     "text": [
      "\r",
      " 58%|█████▊    | 57/99 [01:39<01:13,  1.75s/it]"
     ]
    },
    {
     "name": "stdout",
     "output_type": "stream",
     "text": [
      "./retrieved/trajectories/viz/s_04_e_22_shot_016102_016176_char_0_segm.gif\n",
      "./retrieved/trajectories/viz/s_04_e_22_shot_016102_016176_char_1_segm.gif\n"
     ]
    },
    {
     "name": "stderr",
     "output_type": "stream",
     "text": [
      "\r",
      " 59%|█████▊    | 58/99 [01:41<01:11,  1.74s/it]"
     ]
    },
    {
     "name": "stdout",
     "output_type": "stream",
     "text": [
      "./retrieved/trajectories/viz/s_06_e_04_shot_015356_015430_char_0_segm.gif\n",
      "./retrieved/trajectories/viz/s_06_e_04_shot_015356_015430_char_1_segm.gif\n"
     ]
    },
    {
     "name": "stderr",
     "output_type": "stream",
     "text": [
      "\r",
      " 60%|█████▉    | 59/99 [01:42<01:09,  1.74s/it]"
     ]
    },
    {
     "name": "stdout",
     "output_type": "stream",
     "text": [
      "./retrieved/trajectories/viz/s_04_e_13_shot_042391_042465_char_0_segm.gif\n"
     ]
    },
    {
     "name": "stderr",
     "output_type": "stream",
     "text": [
      "\r",
      " 61%|██████    | 60/99 [01:43<01:06,  1.72s/it]"
     ]
    },
    {
     "name": "stdout",
     "output_type": "stream",
     "text": [
      "./retrieved/trajectories/viz/s_06_e_09_shot_025773_025847_char_0_segm.gif\n"
     ]
    },
    {
     "name": "stderr",
     "output_type": "stream",
     "text": [
      "\r",
      " 62%|██████▏   | 61/99 [01:43<01:04,  1.70s/it]"
     ]
    },
    {
     "name": "stdout",
     "output_type": "stream",
     "text": [
      "./retrieved/trajectories/viz/s_02_e_17_shot_040109_040183_char_0_segm.gif\n",
      "./retrieved/trajectories/viz/s_02_e_17_shot_040109_040183_char_1_segm.gif\n"
     ]
    },
    {
     "name": "stderr",
     "output_type": "stream",
     "text": [
      "\r",
      " 63%|██████▎   | 62/99 [01:44<01:02,  1.69s/it]"
     ]
    },
    {
     "name": "stdout",
     "output_type": "stream",
     "text": [
      "./retrieved/trajectories/viz/s_06_e_01_shot_009097_009171_char_0_segm.gif\n",
      "./retrieved/trajectories/viz/s_06_e_01_shot_009097_009171_char_1_segm.gif\n"
     ]
    },
    {
     "name": "stderr",
     "output_type": "stream",
     "text": [
      "\r",
      " 64%|██████▎   | 63/99 [01:45<01:00,  1.68s/it]"
     ]
    },
    {
     "name": "stdout",
     "output_type": "stream",
     "text": [
      "./retrieved/trajectories/viz/s_06_e_04_shot_015079_015153_char_0_segm.gif\n",
      "./retrieved/trajectories/viz/s_06_e_04_shot_015079_015153_char_1_segm.gif\n",
      "./retrieved/trajectories/viz/s_06_e_04_shot_015079_015153_char_2_segm.gif\n"
     ]
    },
    {
     "name": "stderr",
     "output_type": "stream",
     "text": [
      "\r",
      " 65%|██████▍   | 64/99 [01:47<00:58,  1.68s/it]"
     ]
    },
    {
     "name": "stdout",
     "output_type": "stream",
     "text": [
      "./retrieved/trajectories/viz/s_04_e_02_shot_034648_034722_char_0_segm.gif\n",
      "./retrieved/trajectories/viz/s_04_e_02_shot_034648_034722_char_1_segm.gif\n"
     ]
    },
    {
     "name": "stderr",
     "output_type": "stream",
     "text": [
      "\r",
      " 66%|██████▌   | 65/99 [01:48<00:56,  1.67s/it]"
     ]
    },
    {
     "name": "stdout",
     "output_type": "stream",
     "text": [
      "./retrieved/trajectories/viz/s_03_e_26_shot_037695_037769_char_0_segm.gif\n",
      "./retrieved/trajectories/viz/s_03_e_26_shot_037695_037769_char_1_segm.gif\n",
      "./retrieved/trajectories/viz/s_03_e_26_shot_037695_037769_char_2_segm.gif\n"
     ]
    },
    {
     "name": "stderr",
     "output_type": "stream",
     "text": [
      "\r",
      " 67%|██████▋   | 66/99 [01:50<00:55,  1.67s/it]"
     ]
    },
    {
     "name": "stdout",
     "output_type": "stream",
     "text": [
      "./retrieved/trajectories/viz/s_02_e_30_shot_003848_003922_char_0_segm.gif\n"
     ]
    },
    {
     "name": "stderr",
     "output_type": "stream",
     "text": [
      "\r",
      " 68%|██████▊   | 67/99 [01:51<00:53,  1.66s/it]"
     ]
    },
    {
     "name": "stdout",
     "output_type": "stream",
     "text": [
      "./retrieved/trajectories/viz/s_03_e_26_shot_006847_006921_char_0_segm.gif\n",
      "./retrieved/trajectories/viz/s_03_e_26_shot_006847_006921_char_1_segm.gif\n"
     ]
    },
    {
     "name": "stderr",
     "output_type": "stream",
     "text": [
      "\r",
      " 69%|██████▊   | 68/99 [01:52<00:51,  1.65s/it]"
     ]
    },
    {
     "name": "stdout",
     "output_type": "stream",
     "text": [
      "./retrieved/trajectories/viz/s_05_e_05_shot_031293_031367_char_0_segm.gif\n"
     ]
    },
    {
     "name": "stderr",
     "output_type": "stream",
     "text": [
      "\r",
      " 70%|██████▉   | 69/99 [01:52<00:49,  1.64s/it]"
     ]
    },
    {
     "name": "stdout",
     "output_type": "stream",
     "text": [
      "./retrieved/trajectories/viz/s_03_e_25_shot_042570_042644_char_0_segm.gif\n"
     ]
    },
    {
     "name": "stderr",
     "output_type": "stream",
     "text": [
      "\r",
      " 71%|███████   | 70/99 [01:53<00:47,  1.62s/it]"
     ]
    },
    {
     "name": "stdout",
     "output_type": "stream",
     "text": [
      "./retrieved/trajectories/viz/s_06_e_02_shot_037385_037459_char_0_segm.gif\n",
      "./retrieved/trajectories/viz/s_06_e_02_shot_037385_037459_char_1_segm.gif\n"
     ]
    },
    {
     "name": "stderr",
     "output_type": "stream",
     "text": [
      "\r",
      " 72%|███████▏  | 71/99 [01:54<00:45,  1.61s/it]"
     ]
    },
    {
     "name": "stdout",
     "output_type": "stream",
     "text": [
      "./retrieved/trajectories/viz/s_04_e_15_shot_039048_039122_char_0_segm.gif\n"
     ]
    },
    {
     "name": "stderr",
     "output_type": "stream",
     "text": [
      "\r",
      " 73%|███████▎  | 72/99 [01:55<00:43,  1.60s/it]"
     ]
    },
    {
     "name": "stdout",
     "output_type": "stream",
     "text": [
      "./retrieved/trajectories/viz/s_04_e_16_shot_020559_020633_char_0_segm.gif\n"
     ]
    },
    {
     "name": "stderr",
     "output_type": "stream",
     "text": [
      "\r",
      " 74%|███████▎  | 73/99 [01:56<00:41,  1.59s/it]"
     ]
    },
    {
     "name": "stdout",
     "output_type": "stream",
     "text": [
      "./retrieved/trajectories/viz/s_03_e_13_shot_031405_031479_char_0_segm.gif\n"
     ]
    },
    {
     "name": "stderr",
     "output_type": "stream",
     "text": [
      "\r",
      " 75%|███████▍  | 74/99 [01:56<00:39,  1.58s/it]"
     ]
    },
    {
     "name": "stdout",
     "output_type": "stream",
     "text": [
      "./retrieved/trajectories/viz/s_01_e_03_shot_019734_019808_char_0_segm.gif\n"
     ]
    },
    {
     "name": "stderr",
     "output_type": "stream",
     "text": [
      "\r",
      " 76%|███████▌  | 75/99 [01:57<00:37,  1.57s/it]"
     ]
    },
    {
     "name": "stdout",
     "output_type": "stream",
     "text": [
      "./retrieved/trajectories/viz/s_03_e_17_shot_025762_025836_char_0_segm.gif\n"
     ]
    },
    {
     "name": "stderr",
     "output_type": "stream",
     "text": [
      "\r",
      " 77%|███████▋  | 76/99 [01:58<00:35,  1.55s/it]"
     ]
    },
    {
     "name": "stdout",
     "output_type": "stream",
     "text": [
      "./retrieved/trajectories/viz/s_03_e_16_shot_034648_034722_char_0_segm.gif\n",
      "./retrieved/trajectories/viz/s_03_e_16_shot_034648_034722_char_1_segm.gif\n"
     ]
    },
    {
     "name": "stderr",
     "output_type": "stream",
     "text": [
      "\r",
      " 78%|███████▊  | 77/99 [01:59<00:34,  1.55s/it]"
     ]
    },
    {
     "name": "stdout",
     "output_type": "stream",
     "text": [
      "./retrieved/trajectories/viz/s_02_e_22_shot_020339_020413_char_0_segm.gif\n"
     ]
    },
    {
     "name": "stderr",
     "output_type": "stream",
     "text": [
      "\r",
      " 79%|███████▉  | 78/99 [01:59<00:32,  1.54s/it]"
     ]
    },
    {
     "name": "stdout",
     "output_type": "stream",
     "text": [
      "./retrieved/trajectories/viz/s_04_e_24_shot_017556_017630_char_0_segm.gif\n"
     ]
    },
    {
     "name": "stderr",
     "output_type": "stream",
     "text": [
      "\r",
      " 80%|███████▉  | 79/99 [02:00<00:30,  1.52s/it]"
     ]
    },
    {
     "name": "stdout",
     "output_type": "stream",
     "text": [
      "./retrieved/trajectories/viz/s_02_e_08_shot_020997_021071_char_0_segm.gif\n"
     ]
    },
    {
     "name": "stderr",
     "output_type": "stream",
     "text": [
      "\r",
      " 81%|████████  | 80/99 [02:01<00:28,  1.51s/it]"
     ]
    },
    {
     "name": "stdout",
     "output_type": "stream",
     "text": [
      "./retrieved/trajectories/viz/s_06_e_21_shot_042608_042682_char_0_segm.gif\n",
      "./retrieved/trajectories/viz/s_06_e_21_shot_042608_042682_char_1_segm.gif\n"
     ]
    },
    {
     "name": "stderr",
     "output_type": "stream",
     "text": [
      "\r",
      " 82%|████████▏ | 81/99 [02:02<00:27,  1.51s/it]"
     ]
    },
    {
     "name": "stdout",
     "output_type": "stream",
     "text": [
      "./retrieved/trajectories/viz/s_03_e_11_shot_011374_011448_char_0_segm.gif\n"
     ]
    },
    {
     "name": "stderr",
     "output_type": "stream",
     "text": [
      "\r",
      " 83%|████████▎ | 82/99 [02:02<00:25,  1.50s/it]"
     ]
    },
    {
     "name": "stdout",
     "output_type": "stream",
     "text": [
      "./retrieved/trajectories/viz/s_04_e_03_shot_012111_012185_char_0_segm.gif\n"
     ]
    },
    {
     "name": "stderr",
     "output_type": "stream",
     "text": [
      "\r",
      " 84%|████████▍ | 83/99 [02:03<00:23,  1.49s/it]"
     ]
    },
    {
     "name": "stdout",
     "output_type": "stream",
     "text": [
      "./retrieved/trajectories/viz/s_04_e_25_shot_024607_024681_char_0_segm.gif\n",
      "./retrieved/trajectories/viz/s_04_e_25_shot_024607_024681_char_1_segm.gif\n"
     ]
    },
    {
     "name": "stderr",
     "output_type": "stream",
     "text": [
      "\r",
      " 85%|████████▍ | 84/99 [02:04<00:22,  1.48s/it]"
     ]
    },
    {
     "name": "stdout",
     "output_type": "stream",
     "text": [
      "./retrieved/trajectories/viz/s_02_e_14_shot_023305_023379_char_0_segm.gif\n"
     ]
    },
    {
     "name": "stderr",
     "output_type": "stream",
     "text": [
      "\r",
      " 86%|████████▌ | 85/99 [02:05<00:20,  1.47s/it]"
     ]
    },
    {
     "name": "stdout",
     "output_type": "stream",
     "text": [
      "./retrieved/trajectories/viz/s_02_e_15_shot_003113_003187_char_0_segm.gif\n"
     ]
    },
    {
     "name": "stderr",
     "output_type": "stream",
     "text": [
      "\r",
      " 87%|████████▋ | 86/99 [02:05<00:18,  1.46s/it]"
     ]
    },
    {
     "name": "stdout",
     "output_type": "stream",
     "text": [
      "./retrieved/trajectories/viz/s_05_e_24_shot_003443_003517_char_0_segm.gif\n",
      "./retrieved/trajectories/viz/s_05_e_24_shot_003443_003517_char_1_segm.gif\n"
     ]
    },
    {
     "name": "stderr",
     "output_type": "stream",
     "text": [
      "\r",
      " 88%|████████▊ | 87/99 [02:06<00:17,  1.46s/it]"
     ]
    },
    {
     "name": "stdout",
     "output_type": "stream",
     "text": [
      "./retrieved/trajectories/viz/s_04_e_14_shot_023602_023676_char_0_segm.gif\n"
     ]
    },
    {
     "name": "stderr",
     "output_type": "stream",
     "text": [
      "\r",
      " 89%|████████▉ | 88/99 [02:07<00:15,  1.45s/it]"
     ]
    },
    {
     "name": "stdout",
     "output_type": "stream",
     "text": [
      "./retrieved/trajectories/viz/s_02_e_18_shot_023725_023799_char_0_segm.gif\n",
      "./retrieved/trajectories/viz/s_02_e_18_shot_023725_023799_char_1_segm.gif\n"
     ]
    },
    {
     "name": "stderr",
     "output_type": "stream",
     "text": [
      "\r",
      " 90%|████████▉ | 89/99 [02:08<00:14,  1.44s/it]"
     ]
    },
    {
     "name": "stdout",
     "output_type": "stream",
     "text": [
      "./retrieved/trajectories/viz/s_02_e_11_shot_032270_032344_char_0_segm.gif\n"
     ]
    },
    {
     "name": "stderr",
     "output_type": "stream",
     "text": [
      "\r",
      " 91%|█████████ | 90/99 [02:09<00:12,  1.43s/it]"
     ]
    },
    {
     "name": "stdout",
     "output_type": "stream",
     "text": [
      "./retrieved/trajectories/viz/s_05_e_05_shot_002552_002626_char_0_segm.gif\n",
      "./retrieved/trajectories/viz/s_05_e_05_shot_002552_002626_char_1_segm.gif\n"
     ]
    },
    {
     "name": "stderr",
     "output_type": "stream",
     "text": [
      "\r",
      " 92%|█████████▏| 91/99 [02:10<00:11,  1.43s/it]"
     ]
    },
    {
     "name": "stdout",
     "output_type": "stream",
     "text": [
      "./retrieved/trajectories/viz/s_01_e_12_shot_031768_031842_char_0_segm.gif\n",
      "./retrieved/trajectories/viz/s_01_e_12_shot_031768_031842_char_1_segm.gif\n"
     ]
    },
    {
     "name": "stderr",
     "output_type": "stream",
     "text": [
      "\r",
      " 93%|█████████▎| 92/99 [02:11<00:09,  1.43s/it]"
     ]
    },
    {
     "name": "stdout",
     "output_type": "stream",
     "text": [
      "./retrieved/trajectories/viz/s_01_e_04_shot_009548_009622_char_0_segm.gif\n"
     ]
    },
    {
     "name": "stderr",
     "output_type": "stream",
     "text": [
      "\r",
      " 94%|█████████▍| 93/99 [02:12<00:08,  1.42s/it]"
     ]
    },
    {
     "name": "stdout",
     "output_type": "stream",
     "text": [
      "./retrieved/trajectories/viz/s_02_e_12_shot_015352_015426_char_0_segm.gif\n"
     ]
    },
    {
     "name": "stderr",
     "output_type": "stream",
     "text": [
      "\r",
      " 95%|█████████▍| 94/99 [02:12<00:07,  1.41s/it]"
     ]
    },
    {
     "name": "stdout",
     "output_type": "stream",
     "text": [
      "./retrieved/trajectories/viz/s_06_e_20_shot_010941_011015_char_0_segm.gif\n",
      "./retrieved/trajectories/viz/s_06_e_20_shot_010941_011015_char_1_segm.gif\n"
     ]
    },
    {
     "name": "stderr",
     "output_type": "stream",
     "text": [
      "\r",
      " 96%|█████████▌| 95/99 [02:13<00:05,  1.41s/it]"
     ]
    },
    {
     "name": "stdout",
     "output_type": "stream",
     "text": [
      "./retrieved/trajectories/viz/s_02_e_02_shot_012375_012449_char_0_segm.gif\n"
     ]
    },
    {
     "name": "stderr",
     "output_type": "stream",
     "text": [
      "\r",
      " 97%|█████████▋| 96/99 [02:14<00:04,  1.40s/it]"
     ]
    },
    {
     "name": "stdout",
     "output_type": "stream",
     "text": [
      "./retrieved/trajectories/viz/s_01_e_16_shot_022209_022283_char_0_segm.gif\n"
     ]
    },
    {
     "name": "stderr",
     "output_type": "stream",
     "text": [
      "\r",
      " 98%|█████████▊| 97/99 [02:14<00:02,  1.39s/it]"
     ]
    },
    {
     "name": "stdout",
     "output_type": "stream",
     "text": [
      "./retrieved/trajectories/viz/s_06_e_07_shot_008468_008542_char_0_segm.gif\n",
      "./retrieved/trajectories/viz/s_06_e_07_shot_008468_008542_char_1_segm.gif\n"
     ]
    },
    {
     "name": "stderr",
     "output_type": "stream",
     "text": [
      "\r",
      " 99%|█████████▉| 98/99 [02:16<00:01,  1.39s/it]"
     ]
    },
    {
     "name": "stdout",
     "output_type": "stream",
     "text": [
      "./retrieved/trajectories/viz/s_06_e_01_shot_018777_018851_char_0_segm.gif\n"
     ]
    },
    {
     "name": "stderr",
     "output_type": "stream",
     "text": [
      "100%|██████████| 99/99 [02:16<00:00,  1.38s/it]\n"
     ]
    }
   ],
   "source": [
    "for vid in tqdm(sample_ds):\n",
    "    try:\n",
    "        draw_video_segmentations(vid, retrieved=True)\n",
    "    except:\n",
    "        print(vid.gid())"
   ]
  },
  {
   "cell_type": "code",
   "execution_count": 17,
   "metadata": {
    "run_control": {
     "frozen": false,
     "read_only": false
    }
   },
   "outputs": [
    {
     "name": "stderr",
     "output_type": "stream",
     "text": [
      "100%|██████████| 99/99 [00:13<00:00,  7.14it/s]\n"
     ]
    }
   ],
   "source": [
    "# _ = [draw_video_tracking(vid, retrieved=True) for vid in tqdm(sample_ds)]"
   ]
  },
  {
   "cell_type": "code",
   "execution_count": 14,
   "metadata": {
    "run_control": {
     "frozen": false,
     "read_only": false
    }
   },
   "outputs": [],
   "source": [
    "local_path = './retrieved/trajectories/improved_cutout/'\n",
    "keyframe_postfixes = ['_f' + str(x) + '_frame.png' for x in [10, 40, 70]]\n",
    "def combine_bg_images(video):\n",
    "    outfile = video.gid() + '_bgfill.png'\n",
    "    frame_paths = [''.join([local_path, video.gid(), pfix + '_RESULT.png']) for pfix in keyframe_postfixes]\n",
    "    try:\n",
    "        frame_images = [pil.open(fp) for fp in frame_paths]\n",
    "    except FileNotFoundError as e:\n",
    "        print(e)\n",
    "        return\n",
    "    combined_frames = pil.fromarray(np.hstack([np.asarray(img) for img in frame_images if img]))\n",
    "    combined_frames.save('./retrieved/trajectories/viz/' + outfile)"
   ]
  },
  {
   "cell_type": "code",
   "execution_count": 63,
   "metadata": {
    "run_control": {
     "frozen": false,
     "read_only": false
    }
   },
   "outputs": [],
   "source": [
    "# _ = [combine_bg_images(vid) for vid in sample_ds]"
   ]
  },
  {
   "cell_type": "markdown",
   "metadata": {},
   "source": [
    "# make pages"
   ]
  },
  {
   "cell_type": "code",
   "execution_count": 41,
   "metadata": {
    "run_control": {
     "frozen": false,
     "read_only": false
    }
   },
   "outputs": [],
   "source": [
    "doc_video_group(sample_ds)"
   ]
  },
  {
   "cell_type": "code",
   "execution_count": null,
   "metadata": {
    "run_control": {
     "frozen": false,
     "read_only": false
    }
   },
   "outputs": [],
   "source": []
  },
  {
   "cell_type": "code",
   "execution_count": null,
   "metadata": {
    "run_control": {
     "frozen": false,
     "read_only": false
    }
   },
   "outputs": [],
   "source": []
  },
  {
   "cell_type": "code",
   "execution_count": null,
   "metadata": {
    "run_control": {
     "frozen": false,
     "read_only": false
    }
   },
   "outputs": [],
   "source": []
  },
  {
   "cell_type": "code",
   "execution_count": null,
   "metadata": {
    "run_control": {
     "frozen": false,
     "read_only": false
    }
   },
   "outputs": [],
   "source": []
  },
  {
   "cell_type": "code",
   "execution_count": null,
   "metadata": {
    "run_control": {
     "frozen": false,
     "read_only": false
    }
   },
   "outputs": [],
   "source": []
  }
 ],
 "metadata": {
  "kernelspec": {
   "display_name": "Python 3",
   "language": "python",
   "name": "python3"
  },
  "language_info": {
   "codemirror_mode": {
    "name": "ipython",
    "version": 3
   },
   "file_extension": ".py",
   "mimetype": "text/x-python",
   "name": "python",
   "nbconvert_exporter": "python",
   "pygments_lexer": "ipython3",
   "version": "3.6.4"
  }
 },
 "nbformat": 4,
 "nbformat_minor": 2
}
