{
 "cells": [
  {
   "cell_type": "markdown",
   "metadata": {},
   "source": [
    "# Table of Contents\n",
    "* [make gifs](#make-gifs)\n"
   ]
  },
  {
   "cell_type": "code",
   "execution_count": 3,
   "metadata": {
    "run_control": {
     "frozen": false,
     "read_only": false
    }
   },
   "outputs": [],
   "source": [
    "%%capture\n",
    "from __future__ import division\n",
    "import numpy as np\n",
    "import pandas as pd\n",
    "import scipy.stats as st\n",
    "import itertools\n",
    "import math\n",
    "from collections import Counter, defaultdict\n",
    "%load_ext autoreload\n",
    "%autoreload\n",
    "\n",
    "from __future__ import division\n",
    "import numpy as np\n",
    "import pandas as pd\n",
    "import scipy.stats as st\n",
    "import itertools\n",
    "import functools\n",
    "import math\n",
    "from collections import Counter, defaultdict\n",
    "%load_ext autoreload\n",
    "%autoreload 2\n",
    "\n",
    "import copy\n",
    "import os\n",
    "import json\n",
    "from tqdm import tqdm as tqdm\n",
    "\n",
    "from IPython.display import Image\n",
    "import PIL.Image as pil\n",
    "import random\n",
    "import cv2\n",
    "import matplotlib as mpl\n",
    "mpl.use(\"Agg\")\n",
    "import matplotlib.pylab as plt\n",
    "#%matplotlib notebook\n",
    "%matplotlib inline\n",
    "%load_ext base16_mplrc\n",
    "%base16_mplrc light default\n",
    "#%base16_mplrc dark solarized\n",
    "plt.rcParams['grid.linewidth'] = 0\n",
    "plt.rcParams['figure.figsize'] = (16.0, 10.0)\n",
    "\n",
    "from anigen_tools.dataset import FlintstonesDataset\n",
    "from anigen_tools.mturk import unpickle_this, pickle_this\n",
    "from anigen_tools.trajectory_viz import filter_chars, filter_description\n",
    "from anigen_tools.trajectory_viz import avg_video_appearance\n",
    "from anigen_tools.trajectory_viz import draw_trajectory_set\n",
    "from anigen_tools.trajectory_viz import vid_filter"
   ]
  },
  {
   "cell_type": "code",
   "execution_count": 5,
   "metadata": {},
   "outputs": [],
   "source": [
    "from anigen_tools.mturk import unpickle_this\n",
    "from anigen_tools.docs import doc_video_group\n",
    "from anigen_tools.segmentation import segment_all_video_entities\n",
    "from anigen_tools.hybrid_segmentation import draw_video_segmentations\n",
    "from anigen_tools.tracking import draw_video_tracking"
   ]
  },
  {
   "cell_type": "code",
   "execution_count": 4,
   "metadata": {
    "run_control": {
     "frozen": false,
     "read_only": false
    }
   },
   "outputs": [],
   "source": [
    "import os\n",
    "\n",
    "from paramiko import SSHClient\n",
    "from scp import SCPClient\n",
    "\n",
    "import paramiko\n",
    "\n",
    "from scp import SCPClient"
   ]
  },
  {
   "cell_type": "code",
   "execution_count": 8,
   "metadata": {
    "run_control": {
     "frozen": false,
     "read_only": false
    }
   },
   "outputs": [],
   "source": [
    "# with open('first_sample_ids.txt', 'r') as f:\n",
    "#     sample_ids = [l.strip() for l in f.readlines()]"
   ]
  },
  {
   "cell_type": "code",
   "execution_count": 9,
   "metadata": {
    "run_control": {
     "frozen": false,
     "read_only": false
    }
   },
   "outputs": [],
   "source": [
    "sample_ds = unpickle_this('sample_ds_100.pkl')"
   ]
  },
  {
   "cell_type": "code",
   "execution_count": 10,
   "metadata": {
    "run_control": {
     "frozen": false,
     "read_only": false
    }
   },
   "outputs": [],
   "source": [
    "from tqdm import tqdm"
   ]
  },
  {
   "cell_type": "code",
   "execution_count": 8,
   "metadata": {
    "run_control": {
     "frozen": false,
     "read_only": false
    }
   },
   "outputs": [],
   "source": [
    "def get_remote_file(remote_dir, name):\n",
    "    ssh = SSHClient()\n",
    "    ssh.load_system_host_keys()\n",
    "    ssh.connect(\"ec2-54-218-100-182.us-west-2.compute.amazonaws.com\", username=\"ubuntu\", key_filename=\"/Users/schwenk/dustins_crap/wgmm/long_term_store/inter/dustins-dev.pem\")\n",
    "    scp = SCPClient(ssh.get_transport(), sanitize=lambda x: x)\n",
    "    scp.get(os.path.join(remote_dir, name + \"*\"), os.path.join('retrieved', remote_dir))"
   ]
  },
  {
   "cell_type": "code",
   "execution_count": 11,
   "metadata": {
    "run_control": {
     "frozen": false,
     "read_only": false
    }
   },
   "outputs": [],
   "source": [
    "segmentation_dir = 'trajectories/segmentation/'"
   ]
  },
  {
   "cell_type": "code",
   "execution_count": 12,
   "metadata": {
    "run_control": {
     "frozen": false,
     "read_only": false
    }
   },
   "outputs": [],
   "source": [
    "interp_dir = 'trajectories/interpolation/'\n",
    "tracking_dir = 'trajectories/tracking/'\n",
    "frame_dir = 'trajectories/frame_arr_data/'\n",
    "remote_dirs = [interp_dir, tracking_dir, frame_dir]"
   ]
  },
  {
   "cell_type": "code",
   "execution_count": 13,
   "metadata": {
    "run_control": {
     "frozen": false,
     "read_only": false
    }
   },
   "outputs": [],
   "source": [
    "cutout_dir = 'trajectories/cutout'"
   ]
  },
  {
   "cell_type": "code",
   "execution_count": 70,
   "metadata": {
    "run_control": {
     "frozen": false,
     "read_only": false
    }
   },
   "outputs": [],
   "source": [
    "for vid in sample_ids:\n",
    "    for rd in remote_dirs:\n",
    "        get_remote_file(rd, vid)"
   ]
  },
  {
   "cell_type": "code",
   "execution_count": 52,
   "metadata": {
    "run_control": {
     "frozen": false,
     "read_only": false
    }
   },
   "outputs": [],
   "source": [
    "for vid in sample_ids:\n",
    "    get_remote_file(segmentation_dir, vid)"
   ]
  },
  {
   "cell_type": "code",
   "execution_count": 186,
   "metadata": {
    "run_control": {
     "frozen": false,
     "read_only": false
    }
   },
   "outputs": [],
   "source": [
    "for vid in sample_ids:\n",
    "    get_remote_file(cutout_dir, vid)"
   ]
  },
  {
   "cell_type": "code",
   "execution_count": 39,
   "metadata": {
    "run_control": {
     "frozen": false,
     "read_only": false
    }
   },
   "outputs": [],
   "source": [
    "segment_all_video_entities(pvid, True)"
   ]
  },
  {
   "cell_type": "code",
   "execution_count": 19,
   "metadata": {
    "run_control": {
     "frozen": false,
     "read_only": false
    }
   },
   "outputs": [],
   "source": [
    "draw_video_segmentations(sample_vids_all[0], True)"
   ]
  },
  {
   "cell_type": "markdown",
   "metadata": {},
   "source": [
    "# make gifs"
   ]
  },
  {
   "cell_type": "code",
   "execution_count": 67,
   "metadata": {
    "run_control": {
     "frozen": false,
     "read_only": false
    },
    "scrolled": true
   },
   "outputs": [],
   "source": [
    "# for vid in tqdm(sample_ds):\n",
    "#     try:\n",
    "#         draw_video_segmentations(vid, retrieved=True)\n",
    "#     except:\n",
    "#         print(vid.gid())"
   ]
  },
  {
   "cell_type": "code",
   "execution_count": 15,
   "metadata": {},
   "outputs": [
    {
     "name": "stderr",
     "output_type": "stream",
     "text": [
      "100%|██████████| 99/99 [00:13<00:00,  7.32it/s]\n"
     ]
    }
   ],
   "source": [
    "_ = [draw_video_tracking(vid, retrieved=True) for vid in tqdm(sample_ds)]"
   ]
  },
  {
   "cell_type": "code",
   "execution_count": null,
   "metadata": {},
   "outputs": [],
   "source": []
  },
  {
   "cell_type": "code",
   "execution_count": 14,
   "metadata": {
    "run_control": {
     "frozen": false,
     "read_only": false
    }
   },
   "outputs": [],
   "source": [
    "local_path = './retrieved/trajectories/improved_cutout/'\n",
    "keyframe_postfixes = ['_f' + str(x) + '_frame.png' for x in [10, 40, 70]]\n",
    "def combine_bg_images(video):\n",
    "    outfile = video.gid() + '_bgfill.png'\n",
    "    frame_paths = [''.join([local_path, video.gid(), pfix + '_RESULT.png']) for pfix in keyframe_postfixes]\n",
    "    try:\n",
    "        frame_images = [pil.open(fp) for fp in frame_paths]\n",
    "    except FileNotFoundError as e:\n",
    "        print(e)\n",
    "        return\n",
    "    combined_frames = pil.fromarray(np.hstack([np.asarray(img) for img in frame_images if img]))\n",
    "    combined_frames.save('./retrieved/trajectories/viz/' + outfile)"
   ]
  },
  {
   "cell_type": "code",
   "execution_count": 63,
   "metadata": {
    "run_control": {
     "frozen": false,
     "read_only": false
    }
   },
   "outputs": [],
   "source": [
    "# _ = [combine_bg_images(vid) for vid in sample_ds]"
   ]
  },
  {
   "cell_type": "markdown",
   "metadata": {},
   "source": [
    "# make pages"
   ]
  },
  {
   "cell_type": "code",
   "execution_count": 41,
   "metadata": {
    "run_control": {
     "frozen": false,
     "read_only": false
    }
   },
   "outputs": [],
   "source": [
    "doc_video_group(sample_ds)"
   ]
  },
  {
   "cell_type": "code",
   "execution_count": null,
   "metadata": {},
   "outputs": [],
   "source": []
  },
  {
   "cell_type": "code",
   "execution_count": null,
   "metadata": {},
   "outputs": [],
   "source": []
  },
  {
   "cell_type": "code",
   "execution_count": null,
   "metadata": {},
   "outputs": [],
   "source": []
  },
  {
   "cell_type": "code",
   "execution_count": null,
   "metadata": {},
   "outputs": [],
   "source": []
  },
  {
   "cell_type": "code",
   "execution_count": null,
   "metadata": {},
   "outputs": [],
   "source": []
  }
 ],
 "metadata": {
  "kernelspec": {
   "display_name": "Python 3",
   "language": "python",
   "name": "python3"
  },
  "language_info": {
   "codemirror_mode": {
    "name": "ipython",
    "version": 3
   },
   "file_extension": ".py",
   "mimetype": "text/x-python",
   "name": "python",
   "nbconvert_exporter": "python",
   "pygments_lexer": "ipython3",
   "version": "3.6.4"
  }
 },
 "nbformat": 4,
 "nbformat_minor": 2
}
